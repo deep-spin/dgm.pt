{
 "cells": [
  {
   "cell_type": "markdown",
   "metadata": {},
   "source": [
    "# MADE Demo\n",
    "\n",
    "Autoregressive density estimation for MNIST using masked FFNN (MADE)."
   ]
  },
  {
   "cell_type": "code",
   "execution_count": 1,
   "metadata": {},
   "outputs": [],
   "source": [
    "import sys\n",
    "import argparse\n",
    "import pprint\n",
    "import pathlib\n",
    "import numpy as np\n",
    "import torch\n",
    "import json\n",
    "from tqdm import tqdm\n",
    "from collections import OrderedDict, defaultdict\n",
    "\n",
    "from torch.distributions import Bernoulli\n",
    "\n",
    "import dgm\n",
    "from dgm.conditional import MADEConditioner\n",
    "from dgm.likelihood import FullyFactorizedLikelihood, AutoregressiveLikelihood\n",
    "from dgm.opt_utils import get_optimizer, ReduceLROnPlateau\n",
    "from utils import load_mnist, Batcher\n",
    "\n"
   ]
  },
  {
   "cell_type": "markdown",
   "metadata": {},
   "source": [
    "Organise some hyperparameters"
   ]
  },
  {
   "cell_type": "code",
   "execution_count": 2,
   "metadata": {},
   "outputs": [],
   "source": [
    "from collections import namedtuple\n",
    "\n",
    "Config = namedtuple(\n",
    "    \"Config\", \n",
    "    ['seed', 'device', 'batch_size', 'data_dir', \n",
    "     'height', 'width', 'input_dropout',\n",
    "    'hidden_sizes', 'num_masks', 'resample_mask_every', 'll_samples',\n",
    "    'epochs', 'opt', 'lr', 'momentum', 'l2_weight', 'patience', 'early_stopping'])\n",
    "\n",
    "args = Config(\n",
    "    seed=42,\n",
    "    device='cuda:0',\n",
    "    batch_size=64,\n",
    "    data_dir='./data',\n",
    "    height=28,\n",
    "    width=28,    \n",
    "    input_dropout=0.,\n",
    "    hidden_sizes=[500, 500],\n",
    "    num_masks=10,\n",
    "    resample_mask_every=20,\n",
    "    ll_samples=10,\n",
    "    epochs=100,\n",
    "    opt='adam',\n",
    "    lr=1e-4,\n",
    "    momentum=0.,\n",
    "    l2_weight=1e-4,\n",
    "    patience=10,  \n",
    "    early_stopping=10,    \n",
    ")"
   ]
  },
  {
   "cell_type": "markdown",
   "metadata": {},
   "source": [
    "We like reproducibility"
   ]
  },
  {
   "cell_type": "code",
   "execution_count": 3,
   "metadata": {},
   "outputs": [],
   "source": [
    "np.random.seed(args.seed)\n",
    "torch.manual_seed(args.seed)\n",
    "torch.cuda.manual_seed_all(args.seed)"
   ]
  },
  {
   "cell_type": "markdown",
   "metadata": {},
   "source": [
    "Load data"
   ]
  },
  {
   "cell_type": "code",
   "execution_count": 4,
   "metadata": {
    "scrolled": true
   },
   "outputs": [],
   "source": [
    "train_loader, valid_loader, test_loader = load_mnist(\n",
    "    args.batch_size, \n",
    "    save_to='{}/std/{}x{}'.format(args.data_dir, args.height, args.width),\n",
    "    height=args.height, \n",
    "    width=args.width)"
   ]
  },
  {
   "cell_type": "markdown",
   "metadata": {},
   "source": [
    "Build a model\n",
    "\n",
    "\\begin{align}\n",
    "    P(x) &= \\prod_{i=1}^{|x|} \\text{Bern}(x_i|\\underbrace{f(x_{<i})}_{\\text{MADE}})\n",
    "\\end{align}\n",
    "\n",
    "For that we need a *conditioner*\n",
    "* the part that maps prefixes into Bernoulli parameters\n",
    "\n",
    "and an *autoregressive likelihood*\n",
    "* the part that combines the Bernoulli factors\n",
    "\n"
   ]
  },
  {
   "cell_type": "code",
   "execution_count": 5,
   "metadata": {},
   "outputs": [
    {
     "name": "stdout",
     "output_type": "stream",
     "text": [
      "\n",
      "# Architecture\n",
      "AutoregressiveLikelihood(\n",
      "  (conditioner): MADEConditioner(\n",
      "    (_made): MADE(\n",
      "      (hidden_activation): ReLU()\n",
      "      (net): Sequential(\n",
      "        (0): MaskedLinear(in_features=784, out_features=500, bias=True)\n",
      "        (1): ReLU()\n",
      "        (2): MaskedLinear(in_features=500, out_features=500, bias=True)\n",
      "        (3): ReLU()\n",
      "        (4): MaskedLinear(in_features=500, out_features=784, bias=True)\n",
      "      )\n",
      "    )\n",
      "  )\n",
      ")\n"
     ]
    }
   ],
   "source": [
    "x_size = args.width * args.height\n",
    "device = torch.device(args.device) \n",
    "made = MADEConditioner(\n",
    "    input_size=x_size,  # our only input to the MADE layer is the observation\n",
    "    output_size=x_size * 1,  # number of parameters to predict\n",
    "    context_size=0,  # we do not have any additional inputs\n",
    "    hidden_sizes=args.hidden_sizes,  \n",
    "    num_masks=args.num_masks\n",
    ")        \n",
    "model = AutoregressiveLikelihood(\n",
    "    event_size=x_size,  # size of observation\n",
    "    dist_type=Bernoulli, \n",
    "    conditioner=made\n",
    ").to(device)\n",
    "\n",
    "print(\"\\n# Architecture\")\n",
    "print(model)"
   ]
  },
  {
   "cell_type": "markdown",
   "metadata": {},
   "source": [
    "Let's configure the optimiser"
   ]
  },
  {
   "cell_type": "code",
   "execution_count": 6,
   "metadata": {},
   "outputs": [
    {
     "name": "stdout",
     "output_type": "stream",
     "text": [
      "\n",
      "# Optimizer\n",
      "Adam (\n",
      "Parameter Group 0\n",
      "    amsgrad: False\n",
      "    betas: (0.9, 0.999)\n",
      "    eps: 1e-08\n",
      "    lr: 0.0001\n",
      "    weight_decay: 0.0001\n",
      ")\n"
     ]
    }
   ],
   "source": [
    "print(\"\\n# Optimizer\")\n",
    "opt = get_optimizer(args.opt, model.parameters(), args.lr, args.l2_weight, args.momentum)\n",
    "scheduler = ReduceLROnPlateau(\n",
    "    opt, \n",
    "    factor=0.5, \n",
    "    patience=args.patience,\n",
    "    early_stopping=args.early_stopping,\n",
    "    mode='min', threshold_mode='abs')\n",
    "print(opt)"
   ]
  },
  {
   "cell_type": "markdown",
   "metadata": {},
   "source": [
    "Some helper code for batching MNIST digits"
   ]
  },
  {
   "cell_type": "code",
   "execution_count": 7,
   "metadata": {},
   "outputs": [],
   "source": [
    "def get_batcher(data_loader):\n",
    "    batcher = Batcher(\n",
    "        data_loader, \n",
    "        height=args.height, \n",
    "        width=args.width, \n",
    "        device=torch.device(args.device), \n",
    "        binarize=True, \n",
    "        num_classes=10,\n",
    "        onehot=True\n",
    "    )\n",
    "    return batcher"
   ]
  },
  {
   "cell_type": "markdown",
   "metadata": {},
   "source": [
    "Helper code for validating a model"
   ]
  },
  {
   "cell_type": "code",
   "execution_count": 8,
   "metadata": {},
   "outputs": [],
   "source": [
    "def validate(batcher, args, model,\n",
    "    optimizer=None, scheduler=None, writer=None, name='dev'): \n",
    "    \"\"\"\n",
    "    :return: stop flag, dict \n",
    "        NLL can be found in the dict\n",
    "    \"\"\"\n",
    "\n",
    "    if args.num_masks == 1:\n",
    "        resample_mask = False\n",
    "        num_samples = 1\n",
    "    else:  # ensemble\n",
    "        resample_mask = True\n",
    "        num_samples = args.ll_samples    \n",
    "    \n",
    "    with torch.no_grad():\n",
    "        model.eval()\n",
    "        print_ = defaultdict(list)\n",
    "        nb_instances = 0.\n",
    "        for x_mb, y_mb in batcher:\n",
    "            # [B, H*W]\n",
    "            x_mb = x_mb.reshape(-1, args.height * args.width)            \n",
    "            # [B, 10]\n",
    "            made_inputs = x_mb \n",
    "            # [B, H*W]\n",
    "            p_x = model(\n",
    "                inputs=None, \n",
    "                history=x_mb, \n",
    "                num_samples=num_samples, resample_mask=resample_mask\n",
    "            )\n",
    "            # [B]            \n",
    "            nll = -p_x.log_prob(x_mb).sum(-1)\n",
    "            # accumulate metrics\n",
    "            print_['NLL'].append(nll.sum().item())\n",
    "            nb_instances += x_mb.size(0)\n",
    "\n",
    "        return_dict = {k: np.sum(v) / nb_instances for k, v in print_.items()}\n",
    "        if writer:            \n",
    "            writer.add_scalar('%s/NLL' % name, return_dict['NLL'])    \n",
    "\n",
    "        stop = False\n",
    "        if scheduler is not None:\n",
    "            stop = scheduler.step(return_dict['NLL'])\n",
    "                \n",
    "        return stop, return_dict  "
   ]
  },
  {
   "cell_type": "markdown",
   "metadata": {},
   "source": [
    "Main training loop"
   ]
  },
  {
   "cell_type": "code",
   "execution_count": 9,
   "metadata": {},
   "outputs": [
    {
     "name": "stderr",
     "output_type": "stream",
     "text": [
      "\r",
      "  0%|          | 0/860 [00:00<?, ?it/s]"
     ]
    },
    {
     "name": "stdout",
     "output_type": "stream",
     "text": [
      "\n",
      "# Training\n"
     ]
    },
    {
     "name": "stderr",
     "output_type": "stream",
     "text": [
      "100%|██████████| 860/860 [00:38<00:00, 22.08it/s, 0s=0.88, 1s=0.12, NLL=260.53]\n",
      "  0%|          | 3/860 [00:00<00:32, 26.29it/s, 0s=0.87, 1s=0.13, NLL=273.84]"
     ]
    },
    {
     "name": "stdout",
     "output_type": "stream",
     "text": [
      "Epoch   1/3 -- NLL: 212.83\n"
     ]
    },
    {
     "name": "stderr",
     "output_type": "stream",
     "text": [
      "100%|██████████| 860/860 [00:43<00:00, 19.16it/s, 0s=0.87, 1s=0.13, NLL=222.41]\n",
      "  0%|          | 2/860 [00:00<01:03, 13.56it/s, 0s=0.87, 1s=0.13, NLL=239.57]"
     ]
    },
    {
     "name": "stdout",
     "output_type": "stream",
     "text": [
      "Epoch   2/3 -- NLL: 202.53\n"
     ]
    },
    {
     "name": "stderr",
     "output_type": "stream",
     "text": [
      "100%|██████████| 860/860 [00:35<00:00, 26.11it/s, 0s=0.87, 1s=0.13, NLL=228.71]\n"
     ]
    },
    {
     "name": "stdout",
     "output_type": "stream",
     "text": [
      "Epoch   3/3 -- NLL: 195.46\n"
     ]
    }
   ],
   "source": [
    "print(\"\\n# Training\")\n",
    "\n",
    "#from tensorboardX import SummaryWriter        \n",
    "#writer = SummaryWriter(args.logdir)\n",
    "writer = None\n",
    "step = 1\n",
    "\n",
    "for epoch in range(args.epochs):\n",
    "\n",
    "    iterator = tqdm(get_batcher(train_loader))\n",
    "\n",
    "    for x_mb, y_mb in iterator:\n",
    "        # [B, H*W]\n",
    "        x_mb = x_mb.reshape(-1, args.height * args.width)\n",
    "        # [B, 10]\n",
    "        context = None\n",
    "        model.train()\n",
    "        opt.zero_grad()\n",
    "\n",
    "        if args.num_masks == 1:\n",
    "            resample_mask = False\n",
    "        else:  # training with variable masks\n",
    "            resample_mask = args.resample_mask_every > 0 and step % args.resample_mask_every == 0\n",
    "\n",
    "        # [B, H*W] \n",
    "        noisy_x = torch.where(\n",
    "            torch.rand_like(x_mb) > args.input_dropout, x_mb, torch.zeros_like(x_mb)\n",
    "        )\n",
    "        p_x = model(\n",
    "            inputs=context,\n",
    "            history=noisy_x,\n",
    "            resample_mask=resample_mask\n",
    "        )\n",
    "        # [B, H*W]\n",
    "        ll_mb = p_x.log_prob(x_mb)\n",
    "        # [B]\n",
    "        ll = ll_mb.sum(-1)\n",
    "\n",
    "        loss = -(ll).mean()\n",
    "        loss.backward()\n",
    "        opt.step()    \n",
    "\n",
    "\n",
    "        display = OrderedDict()\n",
    "        display['0s'] = '{:.2f}'.format((x_mb == 0).float().mean().item())\n",
    "        display['1s'] = '{:.2f}'.format((x_mb == 1).float().mean().item())\n",
    "        display['NLL'] =  '{:.2f}'.format(-ll.mean().item())     \n",
    "\n",
    "        if writer:            \n",
    "            writer.add_scalar('training/LL', ll)\n",
    "            #writer.add_image('training/posterior/sample', z.mean(0).reshape(1,1,-1) * 255)\n",
    "\n",
    "        iterator.set_postfix(display, refresh=False)\n",
    "        step += 1\n",
    "\n",
    "    stop, dict_valid = validate(get_batcher(valid_loader), args, model, opt, scheduler, \n",
    "        writer=writer, name=\"dev\")\n",
    "\n",
    "    if stop:\n",
    "        print('Early stopping at epoch {:3}/{}'.format(epoch + 1, args.epochs))\n",
    "        break\n",
    "\n",
    "    print('Epoch {:3}/{} -- '.format(epoch + 1, args.epochs) + \\\n",
    "          ', '.join(['{}: {:4.2f}'.format(k, v) for k, v in sorted(dict_valid.items())]))"
   ]
  },
  {
   "cell_type": "markdown",
   "metadata": {},
   "source": [
    "Let's visualise samples"
   ]
  },
  {
   "cell_type": "code",
   "execution_count": 10,
   "metadata": {},
   "outputs": [],
   "source": [
    "from matplotlib import pyplot as plt\n",
    "\n",
    "def visualize_made(batcher: Batcher, args, model, N=4, writer=None, name='dev'): \n",
    "\n",
    "    assert N <= args.batch_size, \"N should be no bigger than a batch\"\n",
    "    with torch.no_grad():\n",
    "        model.eval()        \n",
    "    \n",
    "        plt.figure(figsize=(2*N, 2*N))\n",
    "        plt.subplots_adjust(wspace=0.5, hspace=0.5)        \n",
    "        \n",
    "        # Some visualisations\n",
    "        for x_mb, y_mb in batcher:\n",
    "            \n",
    "            # [B, H*W]\n",
    "            x_mb = x_mb.reshape(-1, args.height * args.width)\n",
    "            x_mb = x_mb[:N]\n",
    "            # [B, 10]\n",
    "            context = None\n",
    "            \n",
    "            p_x = model(inputs=None, history=x_mb, resample_mask=False)\n",
    "            # [B, H*W]\n",
    "            ll = p_x.log_prob(x_mb)\n",
    "            prob = torch.exp(ll)\n",
    "\n",
    "            # reconstruct bottom half of N instances\n",
    "            x_rec = model.sample(inputs=None, history=x_mb, start_from=args.height * args.width // 2)\n",
    "            # sample N instances\n",
    "            x_sample = model.sample(\n",
    "                inputs=None,\n",
    "                history=torch.zeros(\n",
    "                    [N, args.height * args.width], \n",
    "                    device=torch.device(args.device), \n",
    "                    dtype=torch.float32\n",
    "                ),\n",
    "                start_from=0\n",
    "            )\n",
    "            for i in range(N):\n",
    "                plt.subplot(4, N, 0*N + i + 1)\n",
    "                plt.imshow(x_mb[i].reshape(args.height, args.width).cpu(), cmap='Greys')\n",
    "                plt.title(\"x%d\" % (i + 1))\n",
    "\n",
    "                plt.subplot(4, N, 1*N + i + 1)\n",
    "                plt.imshow(prob[i].reshape(args.height, args.width).cpu(), cmap='Greys')\n",
    "                plt.title(\"prob%d\" % (i + 1))\n",
    "                \n",
    "                plt.subplot(4, N, 2*N + i + 1)                \n",
    "                plt.axhline(y=args.height//2, c='red', linewidth=1, ls='--')\n",
    "                plt.imshow(x_rec[i].reshape(args.height, args.width).cpu(), cmap='Greys')\n",
    "                plt.title(\"rec%d\" % (i + 1))\n",
    "                \n",
    "                plt.subplot(4, N, 3*N + i + 1)\n",
    "                plt.imshow(x_sample[i].reshape(args.height, args.width).cpu(), cmap='Greys')\n",
    "                plt.title(\"sample%d\" % (i + 1))\n",
    "                \n",
    "            break\n",
    "\n",
    "    plt.show()"
   ]
  },
  {
   "cell_type": "markdown",
   "metadata": {},
   "source": [
    "A few reconstructions for the validation set as well as samples from the autoregressive likelihood"
   ]
  },
  {
   "cell_type": "code",
   "execution_count": 11,
   "metadata": {},
   "outputs": [
    {
     "data": {
      "image/png": "[encoded data removed]",
      "text/plain": [
       "<Figure size 576x576 with 16 Axes>"
      ]
     },
     "metadata": {
      "needs_background": "light"
     },
     "output_type": "display_data"
    }
   ],
   "source": [
    "visualize_made(get_batcher(valid_loader), args, model)"
   ]
  },
  {
   "cell_type": "code",
   "execution_count": null,
   "metadata": {},
   "outputs": [],
   "source": []
  }
 ],
 "metadata": {
  "kernelspec": {
   "display_name": "Python 3",
   "language": "python",
   "name": "python3"
  },
  "language_info": {
   "codemirror_mode": {
    "name": "ipython",
    "version": 3
   },
   "file_extension": ".py",
   "mimetype": "text/x-python",
   "name": "python",
   "nbconvert_exporter": "python",
   "pygments_lexer": "ipython3",
   "version": "3.7.3"
  }
 },
 "nbformat": 4,
 "nbformat_minor": 2
}
