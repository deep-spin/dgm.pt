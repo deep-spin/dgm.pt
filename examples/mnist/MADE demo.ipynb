{
 "cells": [
  {
   "cell_type": "markdown",
   "metadata": {},
   "source": [
    "# MADE Demo\n",
    "\n",
    "Autoregressive density estimation for MNIST using masked FFNN (MADE)."
   ]
  },
  {
   "cell_type": "code",
   "execution_count": 1,
   "metadata": {},
   "outputs": [],
   "source": [
    "import sys\n",
    "import argparse\n",
    "import pprint\n",
    "import pathlib\n",
    "import numpy as np\n",
    "import torch\n",
    "import json\n",
    "from tqdm import tqdm\n",
    "from collections import OrderedDict, defaultdict\n",
    "\n",
    "from torch.distributions import Bernoulli\n",
    "\n",
    "import dgm\n",
    "from dgm.conditional import MADEConditioner\n",
    "from dgm.likelihood import FullyFactorizedLikelihood, AutoregressiveLikelihood\n",
    "from dgm.opt_utils import get_optimizer, ReduceLROnPlateau\n",
    "from utils import load_mnist, Batcher\n",
    "\n"
   ]
  },
  {
   "cell_type": "markdown",
   "metadata": {},
   "source": [
    "Organise some hyperparameters"
   ]
  },
  {
   "cell_type": "code",
   "execution_count": 2,
   "metadata": {},
   "outputs": [],
   "source": [
    "from collections import namedtuple\n",
    "\n",
    "Config = namedtuple(\n",
    "    \"Config\", \n",
    "    ['seed', 'device', 'batch_size', 'data_dir', \n",
    "     'height', 'width', 'input_dropout',\n",
    "    'hidden_sizes', 'num_masks', 'resample_mask_every', 'll_samples',\n",
    "    'epochs', 'opt', 'lr', 'momentum', 'l2_weight', 'patience', 'early_stopping'])\n",
    "\n",
    "args = Config(\n",
    "    seed=42,\n",
    "    device='cuda:0',\n",
    "    batch_size=128,\n",
    "    data_dir='./data',\n",
    "    height=28,\n",
    "    width=28,    \n",
    "    input_dropout=0.,\n",
    "    hidden_sizes=[8000, 8000],\n",
    "    num_masks=1,\n",
    "    resample_mask_every=20,\n",
    "    ll_samples=10,\n",
    "    epochs=200,\n",
    "    opt='adam',\n",
    "    lr=1e-4,\n",
    "    momentum=0.,\n",
    "    l2_weight=1e-4,\n",
    "    patience=10,  \n",
    "    early_stopping=10,    \n",
    ")"
   ]
  },
  {
   "cell_type": "markdown",
   "metadata": {},
   "source": [
    "We like reproducibility"
   ]
  },
  {
   "cell_type": "code",
   "execution_count": 3,
   "metadata": {},
   "outputs": [],
   "source": [
    "np.random.seed(args.seed)\n",
    "torch.manual_seed(args.seed)\n",
    "torch.cuda.manual_seed_all(args.seed)"
   ]
  },
  {
   "cell_type": "markdown",
   "metadata": {},
   "source": [
    "Load data"
   ]
  },
  {
   "cell_type": "code",
   "execution_count": 4,
   "metadata": {
    "scrolled": true
   },
   "outputs": [],
   "source": [
    "train_loader, valid_loader, test_loader = load_mnist(\n",
    "    args.batch_size, \n",
    "    save_to='{}/std/{}x{}'.format(args.data_dir, args.height, args.width),\n",
    "    height=args.height, \n",
    "    width=args.width)"
   ]
  },
  {
   "cell_type": "markdown",
   "metadata": {},
   "source": [
    "Build a model\n",
    "\n",
    "\\begin{align}\n",
    "    P(x) &= \\prod_{i=1}^{|x|} \\text{Bern}(x_i|\\underbrace{f(x_{<i})}_{\\text{MADE}})\n",
    "\\end{align}\n",
    "\n",
    "For that we need a *conditioner*\n",
    "* the part that maps prefixes into Bernoulli parameters\n",
    "\n",
    "and an *autoregressive likelihood*\n",
    "* the part that combines the Bernoulli factors\n",
    "\n"
   ]
  },
  {
   "cell_type": "code",
   "execution_count": 5,
   "metadata": {},
   "outputs": [
    {
     "name": "stdout",
     "output_type": "stream",
     "text": [
      "\n",
      "# Architecture\n",
      "AutoregressiveLikelihood(\n",
      "  (conditioner): MADEConditioner(\n",
      "    (_made): MADE(\n",
      "      (hidden_activation): ReLU()\n",
      "      (net): Sequential(\n",
      "        (0): MaskedLinear(in_features=784, out_features=8000, bias=True)\n",
      "        (1): ReLU()\n",
      "        (2): MaskedLinear(in_features=8000, out_features=8000, bias=True)\n",
      "        (3): ReLU()\n",
      "        (4): MaskedLinear(in_features=8000, out_features=784, bias=True)\n",
      "      )\n",
      "    )\n",
      "  )\n",
      ")\n"
     ]
    }
   ],
   "source": [
    "x_size = args.width * args.height\n",
    "device = torch.device(args.device) \n",
    "made = MADEConditioner(\n",
    "    input_size=x_size,  # our only input to the MADE layer is the observation\n",
    "    output_size=x_size * 1,  # number of parameters to predict\n",
    "    context_size=0,  # we do not have any additional inputs\n",
    "    hidden_sizes=args.hidden_sizes,  \n",
    "    num_masks=args.num_masks\n",
    ")        \n",
    "model = AutoregressiveLikelihood(\n",
    "    event_size=x_size,  # size of observation\n",
    "    dist_type=Bernoulli, \n",
    "    conditioner=made\n",
    ").to(device)\n",
    "\n",
    "print(\"\\n# Architecture\")\n",
    "print(model)"
   ]
  },
  {
   "cell_type": "markdown",
   "metadata": {},
   "source": [
    "Let's configure the optimiser"
   ]
  },
  {
   "cell_type": "code",
   "execution_count": 6,
   "metadata": {},
   "outputs": [
    {
     "name": "stdout",
     "output_type": "stream",
     "text": [
      "\n",
      "# Optimizer\n",
      "Adam (\n",
      "Parameter Group 0\n",
      "    amsgrad: False\n",
      "    betas: (0.9, 0.999)\n",
      "    eps: 1e-08\n",
      "    lr: 0.0001\n",
      "    weight_decay: 0.0001\n",
      ")\n"
     ]
    }
   ],
   "source": [
    "print(\"\\n# Optimizer\")\n",
    "opt = get_optimizer(args.opt, model.parameters(), args.lr, args.l2_weight, args.momentum)\n",
    "scheduler = ReduceLROnPlateau(\n",
    "    opt, \n",
    "    factor=0.5, \n",
    "    patience=args.patience,\n",
    "    early_stopping=args.early_stopping,\n",
    "    mode='min', threshold_mode='abs')\n",
    "print(opt)"
   ]
  },
  {
   "cell_type": "markdown",
   "metadata": {},
   "source": [
    "Some helper code for batching MNIST digits"
   ]
  },
  {
   "cell_type": "code",
   "execution_count": 7,
   "metadata": {},
   "outputs": [],
   "source": [
    "def get_batcher(data_loader):\n",
    "    batcher = Batcher(\n",
    "        data_loader, \n",
    "        height=args.height, \n",
    "        width=args.width, \n",
    "        device=torch.device(args.device), \n",
    "        binarize=True, \n",
    "        num_classes=10,\n",
    "        onehot=True\n",
    "    )\n",
    "    return batcher"
   ]
  },
  {
   "cell_type": "markdown",
   "metadata": {},
   "source": [
    "Helper code for validating a model"
   ]
  },
  {
   "cell_type": "code",
   "execution_count": 8,
   "metadata": {},
   "outputs": [],
   "source": [
    "def validate(batcher, args, model,\n",
    "    optimizer=None, scheduler=None, writer=None, name='dev'): \n",
    "    \"\"\"\n",
    "    :return: stop flag, dict \n",
    "        NLL can be found in the dict\n",
    "    \"\"\"\n",
    "\n",
    "    if args.num_masks == 1:\n",
    "        resample_mask = False\n",
    "        num_samples = 1\n",
    "    else:  # ensemble\n",
    "        resample_mask = True\n",
    "        num_samples = args.ll_samples    \n",
    "    \n",
    "    with torch.no_grad():\n",
    "        model.eval()\n",
    "        print_ = defaultdict(list)\n",
    "        nb_instances = 0.\n",
    "        for x_mb, y_mb in batcher:\n",
    "            # [B, H*W]\n",
    "            x_mb = x_mb.reshape(-1, args.height * args.width)            \n",
    "            # [B, 10]\n",
    "            made_inputs = x_mb \n",
    "            # [B, H*W]\n",
    "            p_x = model(\n",
    "                inputs=None, \n",
    "                history=x_mb, \n",
    "                num_samples=num_samples, resample_mask=resample_mask\n",
    "            )\n",
    "            # [B]            \n",
    "            nll = -p_x.log_prob(x_mb).sum(-1)\n",
    "            # accumulate metrics\n",
    "            print_['NLL'].append(nll.sum().item())\n",
    "            nb_instances += x_mb.size(0)\n",
    "\n",
    "        return_dict = {k: np.sum(v) / nb_instances for k, v in print_.items()}\n",
    "        if writer:            \n",
    "            writer.add_scalar('%s/NLL' % name, return_dict['NLL'])    \n",
    "\n",
    "        stop = False\n",
    "        if scheduler is not None:\n",
    "            stop = scheduler.step(return_dict['NLL'])\n",
    "                \n",
    "        return stop, return_dict  "
   ]
  },
  {
   "cell_type": "markdown",
   "metadata": {},
   "source": [
    "Main training loop"
   ]
  },
  {
   "cell_type": "code",
   "execution_count": 9,
   "metadata": {
    "scrolled": true
   },
   "outputs": [
    {
     "name": "stderr",
     "output_type": "stream",
     "text": [
      "  0%|          | 2/430 [00:00<00:28, 15.11it/s, 0s=0.87, 1s=0.13, NLL=540.60]"
     ]
    },
    {
     "name": "stdout",
     "output_type": "stream",
     "text": [
      "\n",
      "# Training\n"
     ]
    },
    {
     "name": "stderr",
     "output_type": "stream",
     "text": [
      "100%|██████████| 430/430 [00:27<00:00, 16.01it/s, 0s=0.87, 1s=0.13, NLL=183.00]\n",
      "  0%|          | 2/430 [00:00<00:27, 15.56it/s, 0s=0.86, 1s=0.14, NLL=186.59]"
     ]
    },
    {
     "name": "stdout",
     "output_type": "stream",
     "text": [
      "Epoch   1/200 -- NLL: 178.83\n"
     ]
    },
    {
     "name": "stderr",
     "output_type": "stream",
     "text": [
      "100%|██████████| 430/430 [00:27<00:00, 15.48it/s, 0s=0.86, 1s=0.14, NLL=150.84]\n",
      "  0%|          | 2/430 [00:00<00:28, 15.11it/s, 0s=0.87, 1s=0.13, NLL=146.11]"
     ]
    },
    {
     "name": "stdout",
     "output_type": "stream",
     "text": [
      "Epoch   2/200 -- NLL: 146.80\n"
     ]
    },
    {
     "name": "stderr",
     "output_type": "stream",
     "text": [
      "100%|██████████| 430/430 [00:28<00:00, 15.45it/s, 0s=0.87, 1s=0.13, NLL=127.02]\n",
      "  0%|          | 2/430 [00:00<00:28, 15.00it/s, 0s=0.87, 1s=0.13, NLL=129.89]"
     ]
    },
    {
     "name": "stdout",
     "output_type": "stream",
     "text": [
      "Epoch   3/200 -- NLL: 129.88\n"
     ]
    },
    {
     "name": "stderr",
     "output_type": "stream",
     "text": [
      "100%|██████████| 430/430 [00:28<00:00, 15.39it/s, 0s=0.86, 1s=0.14, NLL=130.06]\n",
      "  0%|          | 2/430 [00:00<00:28, 15.01it/s, 0s=0.87, 1s=0.13, NLL=122.98]"
     ]
    },
    {
     "name": "stdout",
     "output_type": "stream",
     "text": [
      "Epoch   4/200 -- NLL: 121.00\n"
     ]
    },
    {
     "name": "stderr",
     "output_type": "stream",
     "text": [
      "100%|██████████| 430/430 [00:28<00:00, 15.41it/s, 0s=0.86, 1s=0.14, NLL=120.82]\n",
      "  0%|          | 2/430 [00:00<00:28, 14.96it/s, 0s=0.87, 1s=0.13, NLL=111.05]"
     ]
    },
    {
     "name": "stdout",
     "output_type": "stream",
     "text": [
      "Epoch   5/200 -- NLL: 115.91\n"
     ]
    },
    {
     "name": "stderr",
     "output_type": "stream",
     "text": [
      "100%|██████████| 430/430 [00:28<00:00, 15.38it/s, 0s=0.87, 1s=0.13, NLL=116.86]\n",
      "  0%|          | 2/430 [00:00<00:28, 15.07it/s, 0s=0.88, 1s=0.12, NLL=105.97]"
     ]
    },
    {
     "name": "stdout",
     "output_type": "stream",
     "text": [
      "Epoch   6/200 -- NLL: 112.54\n"
     ]
    },
    {
     "name": "stderr",
     "output_type": "stream",
     "text": [
      "100%|██████████| 430/430 [00:28<00:00, 15.42it/s, 0s=0.87, 1s=0.13, NLL=104.61]\n",
      "  0%|          | 2/430 [00:00<00:28, 14.97it/s, 0s=0.87, 1s=0.13, NLL=108.41]"
     ]
    },
    {
     "name": "stdout",
     "output_type": "stream",
     "text": [
      "Epoch   7/200 -- NLL: 110.12\n"
     ]
    },
    {
     "name": "stderr",
     "output_type": "stream",
     "text": [
      "100%|██████████| 430/430 [00:28<00:00, 15.41it/s, 0s=0.87, 1s=0.13, NLL=110.64]\n",
      "  0%|          | 2/430 [00:00<00:29, 14.51it/s, 0s=0.87, 1s=0.13, NLL=110.41]"
     ]
    },
    {
     "name": "stdout",
     "output_type": "stream",
     "text": [
      "Epoch   8/200 -- NLL: 108.26\n"
     ]
    },
    {
     "name": "stderr",
     "output_type": "stream",
     "text": [
      "100%|██████████| 430/430 [00:28<00:00, 15.37it/s, 0s=0.87, 1s=0.13, NLL=103.89]\n",
      "  0%|          | 2/430 [00:00<00:28, 14.93it/s, 0s=0.86, 1s=0.14, NLL=111.29]"
     ]
    },
    {
     "name": "stdout",
     "output_type": "stream",
     "text": [
      "Epoch   9/200 -- NLL: 106.60\n"
     ]
    },
    {
     "name": "stderr",
     "output_type": "stream",
     "text": [
      "100%|██████████| 430/430 [00:28<00:00, 15.43it/s, 0s=0.87, 1s=0.13, NLL=102.59]\n",
      "  0%|          | 2/430 [00:00<00:28, 15.07it/s, 0s=0.86, 1s=0.14, NLL=109.08]"
     ]
    },
    {
     "name": "stdout",
     "output_type": "stream",
     "text": [
      "Epoch  10/200 -- NLL: 105.41\n"
     ]
    },
    {
     "name": "stderr",
     "output_type": "stream",
     "text": [
      "100%|██████████| 430/430 [00:28<00:00, 15.41it/s, 0s=0.86, 1s=0.14, NLL=103.54]\n",
      "  0%|          | 2/430 [00:00<00:28, 14.94it/s, 0s=0.87, 1s=0.13, NLL=100.54]"
     ]
    },
    {
     "name": "stdout",
     "output_type": "stream",
     "text": [
      "Epoch  11/200 -- NLL: 104.03\n"
     ]
    },
    {
     "name": "stderr",
     "output_type": "stream",
     "text": [
      "100%|██████████| 430/430 [00:28<00:00, 15.41it/s, 0s=0.87, 1s=0.13, NLL=102.78]\n",
      "  0%|          | 2/430 [00:00<00:28, 14.95it/s, 0s=0.87, 1s=0.13, NLL=101.37]"
     ]
    },
    {
     "name": "stdout",
     "output_type": "stream",
     "text": [
      "Epoch  12/200 -- NLL: 102.83\n"
     ]
    },
    {
     "name": "stderr",
     "output_type": "stream",
     "text": [
      "100%|██████████| 430/430 [00:28<00:00, 15.42it/s, 0s=0.87, 1s=0.13, NLL=98.70] \n",
      "  0%|          | 2/430 [00:00<00:28, 14.99it/s, 0s=0.86, 1s=0.14, NLL=100.94]"
     ]
    },
    {
     "name": "stdout",
     "output_type": "stream",
     "text": [
      "Epoch  13/200 -- NLL: 101.76\n"
     ]
    },
    {
     "name": "stderr",
     "output_type": "stream",
     "text": [
      "100%|██████████| 430/430 [00:28<00:00, 15.38it/s, 0s=0.87, 1s=0.13, NLL=98.34] \n",
      "  0%|          | 2/430 [00:00<00:28, 15.03it/s, 0s=0.87, 1s=0.13, NLL=102.14]"
     ]
    },
    {
     "name": "stdout",
     "output_type": "stream",
     "text": [
      "Epoch  14/200 -- NLL: 100.93\n"
     ]
    },
    {
     "name": "stderr",
     "output_type": "stream",
     "text": [
      "100%|██████████| 430/430 [00:28<00:00, 15.36it/s, 0s=0.88, 1s=0.12, NLL=99.11] \n",
      "  0%|          | 2/430 [00:00<00:28, 14.95it/s, 0s=0.87, 1s=0.13, NLL=96.83]"
     ]
    },
    {
     "name": "stdout",
     "output_type": "stream",
     "text": [
      "Epoch  15/200 -- NLL: 100.19\n"
     ]
    },
    {
     "name": "stderr",
     "output_type": "stream",
     "text": [
      "100%|██████████| 430/430 [00:28<00:00, 15.40it/s, 0s=0.87, 1s=0.13, NLL=98.58] \n",
      "  0%|          | 2/430 [00:00<00:28, 15.01it/s, 0s=0.86, 1s=0.14, NLL=100.46]"
     ]
    },
    {
     "name": "stdout",
     "output_type": "stream",
     "text": [
      "Epoch  16/200 -- NLL: 99.53\n"
     ]
    },
    {
     "name": "stderr",
     "output_type": "stream",
     "text": [
      "100%|██████████| 430/430 [00:28<00:00, 15.42it/s, 0s=0.87, 1s=0.13, NLL=100.28]\n",
      "  0%|          | 2/430 [00:00<00:28, 15.01it/s, 0s=0.87, 1s=0.13, NLL=98.57]"
     ]
    },
    {
     "name": "stdout",
     "output_type": "stream",
     "text": [
      "Epoch  17/200 -- NLL: 98.87\n"
     ]
    },
    {
     "name": "stderr",
     "output_type": "stream",
     "text": [
      "100%|██████████| 430/430 [00:28<00:00, 15.38it/s, 0s=0.87, 1s=0.13, NLL=99.80] \n",
      "  0%|          | 2/430 [00:00<00:28, 14.91it/s, 0s=0.87, 1s=0.13, NLL=95.93]"
     ]
    },
    {
     "name": "stdout",
     "output_type": "stream",
     "text": [
      "Epoch  18/200 -- NLL: 98.36\n"
     ]
    },
    {
     "name": "stderr",
     "output_type": "stream",
     "text": [
      "100%|██████████| 430/430 [00:28<00:00, 15.42it/s, 0s=0.86, 1s=0.14, NLL=100.65]\n",
      "  0%|          | 2/430 [00:00<00:28, 15.00it/s, 0s=0.88, 1s=0.12, NLL=94.52]"
     ]
    },
    {
     "name": "stdout",
     "output_type": "stream",
     "text": [
      "Epoch  19/200 -- NLL: 97.65\n"
     ]
    },
    {
     "name": "stderr",
     "output_type": "stream",
     "text": [
      "100%|██████████| 430/430 [00:28<00:00, 15.37it/s, 0s=0.86, 1s=0.14, NLL=96.53] \n",
      "  0%|          | 2/430 [00:00<00:28, 14.98it/s, 0s=0.88, 1s=0.12, NLL=95.14]"
     ]
    },
    {
     "name": "stdout",
     "output_type": "stream",
     "text": [
      "Epoch  20/200 -- NLL: 97.15\n"
     ]
    },
    {
     "name": "stderr",
     "output_type": "stream",
     "text": [
      "100%|██████████| 430/430 [00:28<00:00, 15.46it/s, 0s=0.87, 1s=0.13, NLL=95.29] \n",
      "  0%|          | 2/430 [00:00<00:28, 15.15it/s, 0s=0.87, 1s=0.13, NLL=95.32]"
     ]
    },
    {
     "name": "stdout",
     "output_type": "stream",
     "text": [
      "Epoch  21/200 -- NLL: 96.70\n"
     ]
    },
    {
     "name": "stderr",
     "output_type": "stream",
     "text": [
      "100%|██████████| 430/430 [00:28<00:00, 15.38it/s, 0s=0.87, 1s=0.13, NLL=93.82] \n",
      "  0%|          | 2/430 [00:00<00:28, 15.01it/s, 0s=0.86, 1s=0.14, NLL=98.83]"
     ]
    },
    {
     "name": "stdout",
     "output_type": "stream",
     "text": [
      "Epoch  22/200 -- NLL: 96.50\n"
     ]
    },
    {
     "name": "stderr",
     "output_type": "stream",
     "text": [
      "100%|██████████| 430/430 [00:28<00:00, 15.37it/s, 0s=0.86, 1s=0.14, NLL=95.41] \n",
      "  0%|          | 2/430 [00:00<00:28, 15.05it/s, 0s=0.87, 1s=0.13, NLL=95.56]"
     ]
    },
    {
     "name": "stdout",
     "output_type": "stream",
     "text": [
      "Epoch  23/200 -- NLL: 95.68\n"
     ]
    },
    {
     "name": "stderr",
     "output_type": "stream",
     "text": [
      "100%|██████████| 430/430 [00:28<00:00, 15.47it/s, 0s=0.87, 1s=0.13, NLL=91.23]\n",
      "  0%|          | 2/430 [00:00<00:28, 15.13it/s, 0s=0.87, 1s=0.13, NLL=93.88]"
     ]
    },
    {
     "name": "stdout",
     "output_type": "stream",
     "text": [
      "Epoch  24/200 -- NLL: 95.46\n"
     ]
    },
    {
     "name": "stderr",
     "output_type": "stream",
     "text": [
      "100%|██████████| 430/430 [00:28<00:00, 15.37it/s, 0s=0.87, 1s=0.13, NLL=92.03]\n",
      "  0%|          | 2/430 [00:00<00:28, 15.10it/s, 0s=0.87, 1s=0.13, NLL=94.70]"
     ]
    },
    {
     "name": "stdout",
     "output_type": "stream",
     "text": [
      "Epoch  25/200 -- NLL: 94.99\n"
     ]
    },
    {
     "name": "stderr",
     "output_type": "stream",
     "text": [
      "100%|██████████| 430/430 [00:28<00:00, 15.46it/s, 0s=0.87, 1s=0.13, NLL=91.26]\n",
      "  0%|          | 2/430 [00:00<00:28, 15.05it/s, 0s=0.87, 1s=0.13, NLL=94.32]"
     ]
    },
    {
     "name": "stdout",
     "output_type": "stream",
     "text": [
      "Epoch  26/200 -- NLL: 94.78\n"
     ]
    },
    {
     "name": "stderr",
     "output_type": "stream",
     "text": [
      "100%|██████████| 430/430 [00:28<00:00, 15.37it/s, 0s=0.87, 1s=0.13, NLL=94.88]\n",
      "  0%|          | 2/430 [00:00<00:28, 15.23it/s, 0s=0.87, 1s=0.13, NLL=92.48]"
     ]
    },
    {
     "name": "stdout",
     "output_type": "stream",
     "text": [
      "Epoch  27/200 -- NLL: 94.41\n"
     ]
    },
    {
     "name": "stderr",
     "output_type": "stream",
     "text": [
      "100%|██████████| 430/430 [00:28<00:00, 15.38it/s, 0s=0.86, 1s=0.14, NLL=97.64]\n",
      "  0%|          | 2/430 [00:00<00:28, 14.95it/s, 0s=0.88, 1s=0.12, NLL=90.83]"
     ]
    },
    {
     "name": "stdout",
     "output_type": "stream",
     "text": [
      "Epoch  28/200 -- NLL: 94.17\n"
     ]
    },
    {
     "name": "stderr",
     "output_type": "stream",
     "text": [
      "100%|██████████| 430/430 [00:28<00:00, 15.44it/s, 0s=0.87, 1s=0.13, NLL=92.35]\n",
      "  0%|          | 2/430 [00:00<00:27, 15.30it/s, 0s=0.87, 1s=0.13, NLL=90.41]"
     ]
    },
    {
     "name": "stdout",
     "output_type": "stream",
     "text": [
      "Epoch  29/200 -- NLL: 93.88\n"
     ]
    },
    {
     "name": "stderr",
     "output_type": "stream",
     "text": [
      "100%|██████████| 430/430 [00:28<00:00, 15.44it/s, 0s=0.87, 1s=0.13, NLL=90.95]\n",
      "  0%|          | 2/430 [00:00<00:28, 15.07it/s, 0s=0.88, 1s=0.12, NLL=89.75]"
     ]
    },
    {
     "name": "stdout",
     "output_type": "stream",
     "text": [
      "Epoch  30/200 -- NLL: 93.69\n"
     ]
    },
    {
     "name": "stderr",
     "output_type": "stream",
     "text": [
      "100%|██████████| 430/430 [00:28<00:00, 15.48it/s, 0s=0.86, 1s=0.14, NLL=94.78]\n",
      "  0%|          | 2/430 [00:00<00:28, 15.19it/s, 0s=0.87, 1s=0.13, NLL=92.13]"
     ]
    },
    {
     "name": "stdout",
     "output_type": "stream",
     "text": [
      "Epoch  31/200 -- NLL: 93.05\n"
     ]
    },
    {
     "name": "stderr",
     "output_type": "stream",
     "text": [
      "100%|██████████| 430/430 [00:28<00:00, 15.55it/s, 0s=0.87, 1s=0.13, NLL=89.58]\n",
      "  0%|          | 2/430 [00:00<00:28, 15.11it/s, 0s=0.88, 1s=0.12, NLL=90.83]"
     ]
    },
    {
     "name": "stdout",
     "output_type": "stream",
     "text": [
      "Epoch  32/200 -- NLL: 93.11\n"
     ]
    },
    {
     "name": "stderr",
     "output_type": "stream",
     "text": [
      "100%|██████████| 430/430 [00:28<00:00, 15.37it/s, 0s=0.87, 1s=0.13, NLL=87.04]\n",
      "  0%|          | 2/430 [00:00<00:28, 15.09it/s, 0s=0.87, 1s=0.13, NLL=88.42]"
     ]
    },
    {
     "name": "stdout",
     "output_type": "stream",
     "text": [
      "Epoch  33/200 -- NLL: 92.71\n"
     ]
    },
    {
     "name": "stderr",
     "output_type": "stream",
     "text": [
      "100%|██████████| 430/430 [00:28<00:00, 15.49it/s, 0s=0.86, 1s=0.14, NLL=89.68]\n",
      "  0%|          | 2/430 [00:00<00:28, 15.08it/s, 0s=0.87, 1s=0.13, NLL=87.11]"
     ]
    },
    {
     "name": "stdout",
     "output_type": "stream",
     "text": [
      "Epoch  34/200 -- NLL: 92.52\n"
     ]
    },
    {
     "name": "stderr",
     "output_type": "stream",
     "text": [
      "100%|██████████| 430/430 [00:28<00:00, 15.36it/s, 0s=0.87, 1s=0.13, NLL=90.26]\n",
      "  0%|          | 2/430 [00:00<00:28, 15.13it/s, 0s=0.87, 1s=0.13, NLL=88.90]"
     ]
    },
    {
     "name": "stdout",
     "output_type": "stream",
     "text": [
      "Epoch  35/200 -- NLL: 92.36\n"
     ]
    },
    {
     "name": "stderr",
     "output_type": "stream",
     "text": [
      "100%|██████████| 430/430 [00:28<00:00, 15.41it/s, 0s=0.87, 1s=0.13, NLL=86.81]\n",
      "  0%|          | 2/430 [00:00<00:28, 15.14it/s, 0s=0.87, 1s=0.13, NLL=88.92]"
     ]
    },
    {
     "name": "stdout",
     "output_type": "stream",
     "text": [
      "Epoch  36/200 -- NLL: 92.06\n"
     ]
    },
    {
     "name": "stderr",
     "output_type": "stream",
     "text": [
      "100%|██████████| 430/430 [00:28<00:00, 15.47it/s, 0s=0.86, 1s=0.14, NLL=89.17]\n",
      "  0%|          | 2/430 [00:00<00:28, 15.12it/s, 0s=0.86, 1s=0.14, NLL=90.22]"
     ]
    },
    {
     "name": "stdout",
     "output_type": "stream",
     "text": [
      "Epoch  37/200 -- NLL: 91.83\n"
     ]
    },
    {
     "name": "stderr",
     "output_type": "stream",
     "text": [
      "100%|██████████| 430/430 [00:28<00:00, 15.43it/s, 0s=0.87, 1s=0.13, NLL=88.98]\n",
      "  0%|          | 2/430 [00:00<00:28, 15.12it/s, 0s=0.87, 1s=0.13, NLL=89.95]"
     ]
    },
    {
     "name": "stdout",
     "output_type": "stream",
     "text": [
      "Epoch  38/200 -- NLL: 91.65\n"
     ]
    },
    {
     "name": "stderr",
     "output_type": "stream",
     "text": [
      "100%|██████████| 430/430 [00:28<00:00, 15.43it/s, 0s=0.86, 1s=0.14, NLL=92.90]\n",
      "  0%|          | 2/430 [00:00<00:28, 15.14it/s, 0s=0.87, 1s=0.13, NLL=86.14]"
     ]
    },
    {
     "name": "stdout",
     "output_type": "stream",
     "text": [
      "Epoch  39/200 -- NLL: 91.48\n"
     ]
    },
    {
     "name": "stderr",
     "output_type": "stream",
     "text": [
      "100%|██████████| 430/430 [00:28<00:00, 15.48it/s, 0s=0.87, 1s=0.13, NLL=88.64]\n",
      "  0%|          | 2/430 [00:00<00:28, 15.13it/s, 0s=0.87, 1s=0.13, NLL=88.80]"
     ]
    },
    {
     "name": "stdout",
     "output_type": "stream",
     "text": [
      "Epoch  40/200 -- NLL: 91.10\n"
     ]
    },
    {
     "name": "stderr",
     "output_type": "stream",
     "text": [
      "100%|██████████| 430/430 [00:28<00:00, 15.48it/s, 0s=0.87, 1s=0.13, NLL=86.71]\n",
      "  0%|          | 2/430 [00:00<00:28, 15.14it/s, 0s=0.87, 1s=0.13, NLL=85.25]"
     ]
    },
    {
     "name": "stdout",
     "output_type": "stream",
     "text": [
      "Epoch  41/200 -- NLL: 91.02\n"
     ]
    },
    {
     "name": "stderr",
     "output_type": "stream",
     "text": [
      "100%|██████████| 430/430 [00:28<00:00, 15.47it/s, 0s=0.87, 1s=0.13, NLL=88.53]\n",
      "  0%|          | 2/430 [00:00<00:28, 15.19it/s, 0s=0.87, 1s=0.13, NLL=88.62]"
     ]
    },
    {
     "name": "stdout",
     "output_type": "stream",
     "text": [
      "Epoch  42/200 -- NLL: 91.01\n"
     ]
    },
    {
     "name": "stderr",
     "output_type": "stream",
     "text": [
      "100%|██████████| 430/430 [00:28<00:00, 15.48it/s, 0s=0.86, 1s=0.14, NLL=90.27]\n",
      "  0%|          | 2/430 [00:00<00:28, 15.13it/s, 0s=0.87, 1s=0.13, NLL=88.74]"
     ]
    },
    {
     "name": "stdout",
     "output_type": "stream",
     "text": [
      "Epoch  43/200 -- NLL: 90.90\n"
     ]
    },
    {
     "name": "stderr",
     "output_type": "stream",
     "text": [
      "100%|██████████| 430/430 [00:28<00:00, 15.48it/s, 0s=0.87, 1s=0.13, NLL=87.56]\n",
      "  0%|          | 2/430 [00:00<00:28, 15.10it/s, 0s=0.86, 1s=0.14, NLL=90.56]"
     ]
    },
    {
     "name": "stdout",
     "output_type": "stream",
     "text": [
      "Epoch  44/200 -- NLL: 90.64\n"
     ]
    },
    {
     "name": "stderr",
     "output_type": "stream",
     "text": [
      "100%|██████████| 430/430 [00:28<00:00, 15.45it/s, 0s=0.87, 1s=0.13, NLL=92.64]\n",
      "  0%|          | 2/430 [00:00<00:28, 15.16it/s, 0s=0.87, 1s=0.13, NLL=89.84]"
     ]
    },
    {
     "name": "stdout",
     "output_type": "stream",
     "text": [
      "Epoch  45/200 -- NLL: 90.45\n"
     ]
    },
    {
     "name": "stderr",
     "output_type": "stream",
     "text": [
      "100%|██████████| 430/430 [00:28<00:00, 15.46it/s, 0s=0.87, 1s=0.13, NLL=88.97]\n",
      "  0%|          | 2/430 [00:00<00:28, 15.15it/s, 0s=0.88, 1s=0.12, NLL=85.55]"
     ]
    },
    {
     "name": "stdout",
     "output_type": "stream",
     "text": [
      "Epoch  46/200 -- NLL: 90.15\n"
     ]
    },
    {
     "name": "stderr",
     "output_type": "stream",
     "text": [
      "100%|██████████| 430/430 [00:28<00:00, 15.47it/s, 0s=0.87, 1s=0.13, NLL=93.56]\n",
      "  0%|          | 2/430 [00:00<00:28, 15.11it/s, 0s=0.87, 1s=0.13, NLL=86.29]"
     ]
    },
    {
     "name": "stdout",
     "output_type": "stream",
     "text": [
      "Epoch  47/200 -- NLL: 90.18\n"
     ]
    },
    {
     "name": "stderr",
     "output_type": "stream",
     "text": [
      "100%|██████████| 430/430 [00:28<00:00, 15.46it/s, 0s=0.87, 1s=0.13, NLL=90.79]\n",
      "  0%|          | 2/430 [00:00<00:28, 15.12it/s, 0s=0.87, 1s=0.13, NLL=88.41]"
     ]
    },
    {
     "name": "stdout",
     "output_type": "stream",
     "text": [
      "Epoch  48/200 -- NLL: 89.92\n"
     ]
    },
    {
     "name": "stderr",
     "output_type": "stream",
     "text": [
      "100%|██████████| 430/430 [00:28<00:00, 15.48it/s, 0s=0.87, 1s=0.13, NLL=87.27]\n",
      "  0%|          | 2/430 [00:00<00:28, 15.19it/s, 0s=0.87, 1s=0.13, NLL=89.30]"
     ]
    },
    {
     "name": "stdout",
     "output_type": "stream",
     "text": [
      "Epoch  49/200 -- NLL: 89.88\n"
     ]
    },
    {
     "name": "stderr",
     "output_type": "stream",
     "text": [
      "100%|██████████| 430/430 [00:28<00:00, 15.46it/s, 0s=0.87, 1s=0.13, NLL=90.28]\n",
      "  0%|          | 2/430 [00:00<00:28, 15.08it/s, 0s=0.87, 1s=0.13, NLL=86.43]"
     ]
    },
    {
     "name": "stdout",
     "output_type": "stream",
     "text": [
      "Epoch  50/200 -- NLL: 89.77\n"
     ]
    },
    {
     "name": "stderr",
     "output_type": "stream",
     "text": [
      "100%|██████████| 430/430 [00:28<00:00, 15.40it/s, 0s=0.87, 1s=0.13, NLL=90.08]\n",
      "  0%|          | 2/430 [00:00<00:28, 15.06it/s, 0s=0.87, 1s=0.13, NLL=85.85]"
     ]
    },
    {
     "name": "stdout",
     "output_type": "stream",
     "text": [
      "Epoch  51/200 -- NLL: 89.75\n"
     ]
    },
    {
     "name": "stderr",
     "output_type": "stream",
     "text": [
      "100%|██████████| 430/430 [00:28<00:00, 15.44it/s, 0s=0.87, 1s=0.13, NLL=88.34]\n",
      "  0%|          | 2/430 [00:00<00:28, 15.03it/s, 0s=0.87, 1s=0.13, NLL=88.33]"
     ]
    },
    {
     "name": "stdout",
     "output_type": "stream",
     "text": [
      "Epoch  52/200 -- NLL: 89.43\n"
     ]
    },
    {
     "name": "stderr",
     "output_type": "stream",
     "text": [
      "100%|██████████| 430/430 [00:28<00:00, 15.48it/s, 0s=0.86, 1s=0.14, NLL=90.48]\n",
      "  0%|          | 2/430 [00:00<00:28, 15.17it/s, 0s=0.87, 1s=0.13, NLL=87.43]"
     ]
    },
    {
     "name": "stdout",
     "output_type": "stream",
     "text": [
      "Epoch  53/200 -- NLL: 89.21\n"
     ]
    },
    {
     "name": "stderr",
     "output_type": "stream",
     "text": [
      "100%|██████████| 430/430 [00:28<00:00, 15.48it/s, 0s=0.86, 1s=0.14, NLL=87.72]\n",
      "  0%|          | 2/430 [00:00<00:28, 15.10it/s, 0s=0.87, 1s=0.13, NLL=86.13]"
     ]
    },
    {
     "name": "stdout",
     "output_type": "stream",
     "text": [
      "Epoch  54/200 -- NLL: 89.27\n"
     ]
    },
    {
     "name": "stderr",
     "output_type": "stream",
     "text": [
      "100%|██████████| 430/430 [00:28<00:00, 15.41it/s, 0s=0.87, 1s=0.13, NLL=88.06]\n",
      "  0%|          | 2/430 [00:00<00:28, 15.05it/s, 0s=0.87, 1s=0.13, NLL=87.58]"
     ]
    },
    {
     "name": "stdout",
     "output_type": "stream",
     "text": [
      "Epoch  55/200 -- NLL: 88.99\n"
     ]
    },
    {
     "name": "stderr",
     "output_type": "stream",
     "text": [
      "100%|██████████| 430/430 [00:28<00:00, 15.43it/s, 0s=0.86, 1s=0.14, NLL=85.87]\n",
      "  0%|          | 2/430 [00:00<00:28, 15.12it/s, 0s=0.87, 1s=0.13, NLL=87.08]"
     ]
    },
    {
     "name": "stdout",
     "output_type": "stream",
     "text": [
      "Epoch  56/200 -- NLL: 88.96\n"
     ]
    },
    {
     "name": "stderr",
     "output_type": "stream",
     "text": [
      "100%|██████████| 430/430 [00:28<00:00, 15.48it/s, 0s=0.87, 1s=0.13, NLL=85.27]\n",
      "  0%|          | 2/430 [00:00<00:28, 15.19it/s, 0s=0.87, 1s=0.13, NLL=89.78]"
     ]
    },
    {
     "name": "stdout",
     "output_type": "stream",
     "text": [
      "Epoch  57/200 -- NLL: 88.86\n"
     ]
    },
    {
     "name": "stderr",
     "output_type": "stream",
     "text": [
      "100%|██████████| 430/430 [00:28<00:00, 15.50it/s, 0s=0.87, 1s=0.13, NLL=87.83]\n",
      "  0%|          | 2/430 [00:00<00:28, 15.29it/s, 0s=0.88, 1s=0.12, NLL=82.58]"
     ]
    },
    {
     "name": "stdout",
     "output_type": "stream",
     "text": [
      "Epoch  58/200 -- NLL: 88.77\n"
     ]
    },
    {
     "name": "stderr",
     "output_type": "stream",
     "text": [
      "100%|██████████| 430/430 [00:28<00:00, 15.47it/s, 0s=0.87, 1s=0.13, NLL=86.85]\n",
      "  0%|          | 2/430 [00:00<00:28, 15.13it/s, 0s=0.87, 1s=0.13, NLL=85.00]"
     ]
    },
    {
     "name": "stdout",
     "output_type": "stream",
     "text": [
      "Epoch  59/200 -- NLL: 88.69\n"
     ]
    },
    {
     "name": "stderr",
     "output_type": "stream",
     "text": [
      "100%|██████████| 430/430 [00:28<00:00, 15.47it/s, 0s=0.87, 1s=0.13, NLL=85.80]\n",
      "  0%|          | 2/430 [00:00<00:28, 15.19it/s, 0s=0.87, 1s=0.13, NLL=88.11]"
     ]
    },
    {
     "name": "stdout",
     "output_type": "stream",
     "text": [
      "Epoch  60/200 -- NLL: 88.38\n"
     ]
    },
    {
     "name": "stderr",
     "output_type": "stream",
     "text": [
      "100%|██████████| 430/430 [00:28<00:00, 15.46it/s, 0s=0.86, 1s=0.14, NLL=88.80]\n",
      "  0%|          | 2/430 [00:00<00:27, 15.30it/s, 0s=0.87, 1s=0.13, NLL=83.50]"
     ]
    },
    {
     "name": "stdout",
     "output_type": "stream",
     "text": [
      "Epoch  61/200 -- NLL: 88.54\n"
     ]
    },
    {
     "name": "stderr",
     "output_type": "stream",
     "text": [
      "100%|██████████| 430/430 [00:28<00:00, 15.15it/s, 0s=0.88, 1s=0.12, NLL=83.24]\n",
      "  0%|          | 2/430 [00:00<00:28, 15.05it/s, 0s=0.87, 1s=0.13, NLL=88.49]"
     ]
    },
    {
     "name": "stdout",
     "output_type": "stream",
     "text": [
      "Epoch  62/200 -- NLL: 88.37\n"
     ]
    },
    {
     "name": "stderr",
     "output_type": "stream",
     "text": [
      "100%|██████████| 430/430 [00:28<00:00, 15.45it/s, 0s=0.87, 1s=0.13, NLL=86.54]\n",
      "  0%|          | 2/430 [00:00<00:28, 15.17it/s, 0s=0.88, 1s=0.12, NLL=81.83]"
     ]
    },
    {
     "name": "stdout",
     "output_type": "stream",
     "text": [
      "Epoch  63/200 -- NLL: 88.52\n"
     ]
    },
    {
     "name": "stderr",
     "output_type": "stream",
     "text": [
      "100%|██████████| 430/430 [00:28<00:00, 15.46it/s, 0s=0.88, 1s=0.12, NLL=83.34]\n",
      "  0%|          | 2/430 [00:00<00:28, 15.08it/s, 0s=0.87, 1s=0.13, NLL=85.14]"
     ]
    },
    {
     "name": "stdout",
     "output_type": "stream",
     "text": [
      "Epoch  64/200 -- NLL: 88.17\n"
     ]
    },
    {
     "name": "stderr",
     "output_type": "stream",
     "text": [
      "100%|██████████| 430/430 [00:28<00:00, 15.48it/s, 0s=0.87, 1s=0.13, NLL=83.71]\n",
      "  0%|          | 2/430 [00:00<00:28, 15.21it/s, 0s=0.87, 1s=0.13, NLL=81.86]"
     ]
    },
    {
     "name": "stdout",
     "output_type": "stream",
     "text": [
      "Epoch  65/200 -- NLL: 88.04\n"
     ]
    },
    {
     "name": "stderr",
     "output_type": "stream",
     "text": [
      "100%|██████████| 430/430 [00:28<00:00, 15.44it/s, 0s=0.87, 1s=0.13, NLL=84.48]\n",
      "  0%|          | 2/430 [00:00<00:28, 15.20it/s, 0s=0.87, 1s=0.13, NLL=87.96]"
     ]
    },
    {
     "name": "stdout",
     "output_type": "stream",
     "text": [
      "Epoch  66/200 -- NLL: 88.16\n"
     ]
    },
    {
     "name": "stderr",
     "output_type": "stream",
     "text": [
      "100%|██████████| 430/430 [00:28<00:00, 15.48it/s, 0s=0.87, 1s=0.13, NLL=85.14]\n",
      "  0%|          | 2/430 [00:00<00:28, 15.11it/s, 0s=0.87, 1s=0.13, NLL=85.12]"
     ]
    },
    {
     "name": "stdout",
     "output_type": "stream",
     "text": [
      "Epoch  67/200 -- NLL: 88.18\n"
     ]
    },
    {
     "name": "stderr",
     "output_type": "stream",
     "text": [
      "100%|██████████| 430/430 [00:28<00:00, 15.46it/s, 0s=0.86, 1s=0.14, NLL=86.76]\n",
      "  0%|          | 2/430 [00:00<00:28, 15.13it/s, 0s=0.87, 1s=0.13, NLL=86.37]"
     ]
    },
    {
     "name": "stdout",
     "output_type": "stream",
     "text": [
      "Epoch  68/200 -- NLL: 87.83\n"
     ]
    },
    {
     "name": "stderr",
     "output_type": "stream",
     "text": [
      "100%|██████████| 430/430 [00:28<00:00, 15.47it/s, 0s=0.87, 1s=0.13, NLL=82.42]\n",
      "  0%|          | 2/430 [00:00<00:28, 15.24it/s, 0s=0.87, 1s=0.13, NLL=85.36]"
     ]
    },
    {
     "name": "stdout",
     "output_type": "stream",
     "text": [
      "Epoch  69/200 -- NLL: 87.82\n"
     ]
    },
    {
     "name": "stderr",
     "output_type": "stream",
     "text": [
      "100%|██████████| 430/430 [00:28<00:00, 15.46it/s, 0s=0.87, 1s=0.13, NLL=86.63]\n",
      "  0%|          | 2/430 [00:00<00:28, 15.12it/s, 0s=0.86, 1s=0.14, NLL=88.78]"
     ]
    },
    {
     "name": "stdout",
     "output_type": "stream",
     "text": [
      "Epoch  70/200 -- NLL: 87.87\n"
     ]
    },
    {
     "name": "stderr",
     "output_type": "stream",
     "text": [
      "100%|██████████| 430/430 [00:28<00:00, 15.43it/s, 0s=0.87, 1s=0.13, NLL=86.15]\n",
      "  0%|          | 2/430 [00:00<00:28, 15.20it/s, 0s=0.87, 1s=0.13, NLL=84.53]"
     ]
    },
    {
     "name": "stdout",
     "output_type": "stream",
     "text": [
      "Epoch  71/200 -- NLL: 87.63\n"
     ]
    },
    {
     "name": "stderr",
     "output_type": "stream",
     "text": [
      "100%|██████████| 430/430 [00:28<00:00, 15.46it/s, 0s=0.88, 1s=0.12, NLL=83.52]\n",
      "  0%|          | 2/430 [00:00<00:28, 15.04it/s, 0s=0.87, 1s=0.13, NLL=83.23]"
     ]
    },
    {
     "name": "stdout",
     "output_type": "stream",
     "text": [
      "Epoch  72/200 -- NLL: 87.63\n"
     ]
    },
    {
     "name": "stderr",
     "output_type": "stream",
     "text": [
      "100%|██████████| 430/430 [00:28<00:00, 15.41it/s, 0s=0.87, 1s=0.13, NLL=86.17]\n",
      "  0%|          | 2/430 [00:00<00:28, 15.11it/s, 0s=0.87, 1s=0.13, NLL=81.23]"
     ]
    },
    {
     "name": "stdout",
     "output_type": "stream",
     "text": [
      "Epoch  73/200 -- NLL: 87.57\n"
     ]
    },
    {
     "name": "stderr",
     "output_type": "stream",
     "text": [
      "100%|██████████| 430/430 [00:28<00:00, 14.99it/s, 0s=0.87, 1s=0.13, NLL=84.90]\n",
      "  0%|          | 2/430 [00:00<00:28, 15.10it/s, 0s=0.87, 1s=0.13, NLL=82.50]"
     ]
    },
    {
     "name": "stdout",
     "output_type": "stream",
     "text": [
      "Epoch  74/200 -- NLL: 87.42\n"
     ]
    },
    {
     "name": "stderr",
     "output_type": "stream",
     "text": [
      "100%|██████████| 430/430 [00:28<00:00, 15.43it/s, 0s=0.87, 1s=0.13, NLL=84.88]\n",
      "  0%|          | 2/430 [00:00<00:28, 15.15it/s, 0s=0.87, 1s=0.13, NLL=81.42]"
     ]
    },
    {
     "name": "stdout",
     "output_type": "stream",
     "text": [
      "Epoch  75/200 -- NLL: 87.41\n"
     ]
    },
    {
     "name": "stderr",
     "output_type": "stream",
     "text": [
      "100%|██████████| 430/430 [00:28<00:00, 15.46it/s, 0s=0.87, 1s=0.13, NLL=82.15]\n",
      "  0%|          | 2/430 [00:00<00:28, 15.07it/s, 0s=0.87, 1s=0.13, NLL=82.34]"
     ]
    },
    {
     "name": "stdout",
     "output_type": "stream",
     "text": [
      "Epoch  76/200 -- NLL: 87.37\n"
     ]
    },
    {
     "name": "stderr",
     "output_type": "stream",
     "text": [
      "100%|██████████| 430/430 [00:28<00:00, 15.43it/s, 0s=0.87, 1s=0.13, NLL=86.65]\n",
      "  0%|          | 2/430 [00:00<00:28, 15.06it/s, 0s=0.87, 1s=0.13, NLL=84.66]"
     ]
    },
    {
     "name": "stdout",
     "output_type": "stream",
     "text": [
      "Epoch  77/200 -- NLL: 87.20\n"
     ]
    },
    {
     "name": "stderr",
     "output_type": "stream",
     "text": [
      "100%|██████████| 430/430 [00:28<00:00, 15.43it/s, 0s=0.87, 1s=0.13, NLL=85.89]\n",
      "  0%|          | 2/430 [00:00<00:28, 15.08it/s, 0s=0.87, 1s=0.13, NLL=85.22]"
     ]
    },
    {
     "name": "stdout",
     "output_type": "stream",
     "text": [
      "Epoch  78/200 -- NLL: 87.29\n"
     ]
    },
    {
     "name": "stderr",
     "output_type": "stream",
     "text": [
      "100%|██████████| 430/430 [00:28<00:00, 15.40it/s, 0s=0.87, 1s=0.13, NLL=81.57]\n",
      "  0%|          | 2/430 [00:00<00:28, 15.01it/s, 0s=0.88, 1s=0.12, NLL=82.69]"
     ]
    },
    {
     "name": "stdout",
     "output_type": "stream",
     "text": [
      "Epoch  79/200 -- NLL: 87.04\n"
     ]
    },
    {
     "name": "stderr",
     "output_type": "stream",
     "text": [
      "100%|██████████| 430/430 [00:28<00:00, 15.42it/s, 0s=0.87, 1s=0.13, NLL=83.04]\n",
      "  0%|          | 2/430 [00:00<00:28, 15.03it/s, 0s=0.87, 1s=0.13, NLL=86.07]"
     ]
    },
    {
     "name": "stdout",
     "output_type": "stream",
     "text": [
      "Epoch  80/200 -- NLL: 87.28\n"
     ]
    },
    {
     "name": "stderr",
     "output_type": "stream",
     "text": [
      "100%|██████████| 430/430 [00:28<00:00, 15.51it/s, 0s=0.87, 1s=0.13, NLL=83.22]\n",
      "  0%|          | 2/430 [00:00<00:28, 15.12it/s, 0s=0.87, 1s=0.13, NLL=84.26]"
     ]
    },
    {
     "name": "stdout",
     "output_type": "stream",
     "text": [
      "Epoch  81/200 -- NLL: 87.18\n"
     ]
    },
    {
     "name": "stderr",
     "output_type": "stream",
     "text": [
      "100%|██████████| 430/430 [00:28<00:00, 15.35it/s, 0s=0.88, 1s=0.12, NLL=80.37]\n",
      "  0%|          | 2/430 [00:00<00:28, 15.19it/s, 0s=0.87, 1s=0.13, NLL=82.31]"
     ]
    },
    {
     "name": "stdout",
     "output_type": "stream",
     "text": [
      "Epoch  82/200 -- NLL: 87.01\n"
     ]
    },
    {
     "name": "stderr",
     "output_type": "stream",
     "text": [
      "100%|██████████| 430/430 [00:28<00:00, 15.41it/s, 0s=0.86, 1s=0.14, NLL=84.00]\n",
      "  0%|          | 2/430 [00:00<00:28, 15.19it/s, 0s=0.87, 1s=0.13, NLL=84.94]"
     ]
    },
    {
     "name": "stdout",
     "output_type": "stream",
     "text": [
      "Epoch  83/200 -- NLL: 86.98\n"
     ]
    },
    {
     "name": "stderr",
     "output_type": "stream",
     "text": [
      "100%|██████████| 430/430 [00:28<00:00, 15.41it/s, 0s=0.88, 1s=0.12, NLL=86.64]\n",
      "  0%|          | 2/430 [00:00<00:28, 15.15it/s, 0s=0.87, 1s=0.13, NLL=83.31]"
     ]
    },
    {
     "name": "stdout",
     "output_type": "stream",
     "text": [
      "Epoch  84/200 -- NLL: 86.97\n"
     ]
    },
    {
     "name": "stderr",
     "output_type": "stream",
     "text": [
      "100%|██████████| 430/430 [00:28<00:00, 15.42it/s, 0s=0.87, 1s=0.13, NLL=83.95]\n",
      "  0%|          | 2/430 [00:00<00:28, 15.03it/s, 0s=0.86, 1s=0.14, NLL=83.34]"
     ]
    },
    {
     "name": "stdout",
     "output_type": "stream",
     "text": [
      "Epoch  85/200 -- NLL: 86.99\n"
     ]
    },
    {
     "name": "stderr",
     "output_type": "stream",
     "text": [
      "100%|██████████| 430/430 [00:28<00:00, 15.41it/s, 0s=0.87, 1s=0.13, NLL=86.84]\n",
      "  0%|          | 2/430 [00:00<00:28, 15.13it/s, 0s=0.87, 1s=0.13, NLL=85.20]"
     ]
    },
    {
     "name": "stdout",
     "output_type": "stream",
     "text": [
      "Epoch  86/200 -- NLL: 86.84\n"
     ]
    },
    {
     "name": "stderr",
     "output_type": "stream",
     "text": [
      "100%|██████████| 430/430 [00:28<00:00, 15.42it/s, 0s=0.87, 1s=0.13, NLL=85.53]\n",
      "  0%|          | 2/430 [00:00<00:28, 15.05it/s, 0s=0.87, 1s=0.13, NLL=81.82]"
     ]
    },
    {
     "name": "stdout",
     "output_type": "stream",
     "text": [
      "Epoch  87/200 -- NLL: 86.77\n"
     ]
    },
    {
     "name": "stderr",
     "output_type": "stream",
     "text": [
      "100%|██████████| 430/430 [00:28<00:00, 15.41it/s, 0s=0.87, 1s=0.13, NLL=84.83]\n",
      "  0%|          | 2/430 [00:00<00:28, 15.07it/s, 0s=0.87, 1s=0.13, NLL=83.47]"
     ]
    },
    {
     "name": "stdout",
     "output_type": "stream",
     "text": [
      "Epoch  88/200 -- NLL: 86.65\n"
     ]
    },
    {
     "name": "stderr",
     "output_type": "stream",
     "text": [
      "100%|██████████| 430/430 [00:28<00:00, 15.43it/s, 0s=0.86, 1s=0.14, NLL=83.04]\n",
      "  0%|          | 2/430 [00:00<00:28, 15.00it/s, 0s=0.87, 1s=0.13, NLL=80.21]"
     ]
    },
    {
     "name": "stdout",
     "output_type": "stream",
     "text": [
      "Epoch  89/200 -- NLL: 86.75\n"
     ]
    },
    {
     "name": "stderr",
     "output_type": "stream",
     "text": [
      "100%|██████████| 430/430 [00:28<00:00, 15.42it/s, 0s=0.87, 1s=0.13, NLL=82.52]\n",
      "  0%|          | 2/430 [00:00<00:28, 15.06it/s, 0s=0.86, 1s=0.14, NLL=86.51]"
     ]
    },
    {
     "name": "stdout",
     "output_type": "stream",
     "text": [
      "Epoch  90/200 -- NLL: 86.63\n"
     ]
    },
    {
     "name": "stderr",
     "output_type": "stream",
     "text": [
      "100%|██████████| 430/430 [00:28<00:00, 15.43it/s, 0s=0.88, 1s=0.12, NLL=85.19]\n",
      "  0%|          | 2/430 [00:00<00:28, 15.13it/s, 0s=0.86, 1s=0.14, NLL=84.78]"
     ]
    },
    {
     "name": "stdout",
     "output_type": "stream",
     "text": [
      "Epoch  91/200 -- NLL: 86.57\n"
     ]
    },
    {
     "name": "stderr",
     "output_type": "stream",
     "text": [
      "100%|██████████| 430/430 [00:28<00:00, 15.42it/s, 0s=0.87, 1s=0.13, NLL=83.03]\n",
      "  0%|          | 2/430 [00:00<00:28, 15.07it/s, 0s=0.87, 1s=0.13, NLL=84.04]"
     ]
    },
    {
     "name": "stdout",
     "output_type": "stream",
     "text": [
      "Epoch  92/200 -- NLL: 86.69\n"
     ]
    },
    {
     "name": "stderr",
     "output_type": "stream",
     "text": [
      "100%|██████████| 430/430 [00:28<00:00, 15.41it/s, 0s=0.88, 1s=0.12, NLL=79.43]\n",
      "  0%|          | 2/430 [00:00<00:28, 15.23it/s, 0s=0.86, 1s=0.14, NLL=86.96]"
     ]
    },
    {
     "name": "stdout",
     "output_type": "stream",
     "text": [
      "Epoch  93/200 -- NLL: 86.53\n"
     ]
    },
    {
     "name": "stderr",
     "output_type": "stream",
     "text": [
      "100%|██████████| 430/430 [00:28<00:00, 15.46it/s, 0s=0.87, 1s=0.13, NLL=79.47]\n",
      "  0%|          | 2/430 [00:00<00:28, 15.15it/s, 0s=0.87, 1s=0.13, NLL=80.32]"
     ]
    },
    {
     "name": "stdout",
     "output_type": "stream",
     "text": [
      "Epoch  94/200 -- NLL: 86.59\n"
     ]
    },
    {
     "name": "stderr",
     "output_type": "stream",
     "text": [
      "100%|██████████| 430/430 [00:28<00:00, 15.43it/s, 0s=0.87, 1s=0.13, NLL=86.14]\n",
      "  0%|          | 2/430 [00:00<00:28, 15.11it/s, 0s=0.87, 1s=0.13, NLL=84.00]"
     ]
    },
    {
     "name": "stdout",
     "output_type": "stream",
     "text": [
      "Epoch  95/200 -- NLL: 86.43\n"
     ]
    },
    {
     "name": "stderr",
     "output_type": "stream",
     "text": [
      "100%|██████████| 430/430 [00:28<00:00, 15.41it/s, 0s=0.87, 1s=0.13, NLL=83.54]\n",
      "  0%|          | 2/430 [00:00<00:28, 15.11it/s, 0s=0.86, 1s=0.14, NLL=85.80]"
     ]
    },
    {
     "name": "stdout",
     "output_type": "stream",
     "text": [
      "Epoch  96/200 -- NLL: 86.21\n"
     ]
    },
    {
     "name": "stderr",
     "output_type": "stream",
     "text": [
      "100%|██████████| 430/430 [00:28<00:00, 15.41it/s, 0s=0.87, 1s=0.13, NLL=80.04]\n",
      "  0%|          | 2/430 [00:00<00:28, 15.10it/s, 0s=0.86, 1s=0.14, NLL=84.77]"
     ]
    },
    {
     "name": "stdout",
     "output_type": "stream",
     "text": [
      "Epoch  97/200 -- NLL: 86.36\n"
     ]
    },
    {
     "name": "stderr",
     "output_type": "stream",
     "text": [
      "100%|██████████| 430/430 [00:28<00:00, 15.42it/s, 0s=0.87, 1s=0.13, NLL=79.34]\n",
      "  0%|          | 2/430 [00:00<00:28, 15.12it/s, 0s=0.87, 1s=0.13, NLL=82.33]"
     ]
    },
    {
     "name": "stdout",
     "output_type": "stream",
     "text": [
      "Epoch  98/200 -- NLL: 86.32\n"
     ]
    },
    {
     "name": "stderr",
     "output_type": "stream",
     "text": [
      "100%|██████████| 430/430 [00:28<00:00, 15.43it/s, 0s=0.87, 1s=0.13, NLL=80.63]\n",
      "  0%|          | 2/430 [00:00<00:28, 15.25it/s, 0s=0.86, 1s=0.14, NLL=84.73]"
     ]
    },
    {
     "name": "stdout",
     "output_type": "stream",
     "text": [
      "Epoch  99/200 -- NLL: 86.29\n"
     ]
    },
    {
     "name": "stderr",
     "output_type": "stream",
     "text": [
      "100%|██████████| 430/430 [00:28<00:00, 15.41it/s, 0s=0.87, 1s=0.13, NLL=83.12]\n",
      "  0%|          | 2/430 [00:00<00:28, 15.00it/s, 0s=0.87, 1s=0.13, NLL=81.92]"
     ]
    },
    {
     "name": "stdout",
     "output_type": "stream",
     "text": [
      "Epoch 100/200 -- NLL: 86.23\n"
     ]
    },
    {
     "name": "stderr",
     "output_type": "stream",
     "text": [
      "100%|██████████| 430/430 [00:28<00:00, 15.40it/s, 0s=0.86, 1s=0.14, NLL=87.93]\n",
      "  0%|          | 2/430 [00:00<00:28, 15.17it/s, 0s=0.88, 1s=0.12, NLL=82.57]"
     ]
    },
    {
     "name": "stdout",
     "output_type": "stream",
     "text": [
      "Epoch 101/200 -- NLL: 86.28\n"
     ]
    },
    {
     "name": "stderr",
     "output_type": "stream",
     "text": [
      "100%|██████████| 430/430 [00:28<00:00, 15.41it/s, 0s=0.87, 1s=0.13, NLL=85.76]\n",
      "  0%|          | 2/430 [00:00<00:28, 15.13it/s, 0s=0.87, 1s=0.13, NLL=81.11]"
     ]
    },
    {
     "name": "stdout",
     "output_type": "stream",
     "text": [
      "Epoch 102/200 -- NLL: 86.36\n"
     ]
    },
    {
     "name": "stderr",
     "output_type": "stream",
     "text": [
      "100%|██████████| 430/430 [00:28<00:00, 15.41it/s, 0s=0.87, 1s=0.13, NLL=81.03]\n",
      "  0%|          | 2/430 [00:00<00:28, 15.02it/s, 0s=0.87, 1s=0.13, NLL=82.56]"
     ]
    },
    {
     "name": "stdout",
     "output_type": "stream",
     "text": [
      "Epoch 103/200 -- NLL: 86.35\n"
     ]
    },
    {
     "name": "stderr",
     "output_type": "stream",
     "text": [
      "100%|██████████| 430/430 [00:28<00:00, 15.40it/s, 0s=0.87, 1s=0.13, NLL=79.41]\n",
      "  0%|          | 2/430 [00:00<00:28, 15.12it/s, 0s=0.88, 1s=0.12, NLL=81.03]"
     ]
    },
    {
     "name": "stdout",
     "output_type": "stream",
     "text": [
      "Epoch 104/200 -- NLL: 86.24\n"
     ]
    },
    {
     "name": "stderr",
     "output_type": "stream",
     "text": [
      "100%|██████████| 430/430 [00:28<00:00, 15.40it/s, 0s=0.87, 1s=0.13, NLL=83.91]\n",
      "  0%|          | 2/430 [00:00<00:28, 15.16it/s, 0s=0.87, 1s=0.13, NLL=84.81]"
     ]
    },
    {
     "name": "stdout",
     "output_type": "stream",
     "text": [
      "Epoch 105/200 -- NLL: 86.06\n"
     ]
    },
    {
     "name": "stderr",
     "output_type": "stream",
     "text": [
      "100%|██████████| 430/430 [00:28<00:00, 15.41it/s, 0s=0.86, 1s=0.14, NLL=85.12]\n",
      "  0%|          | 2/430 [00:00<00:28, 15.07it/s, 0s=0.87, 1s=0.13, NLL=83.63]"
     ]
    },
    {
     "name": "stdout",
     "output_type": "stream",
     "text": [
      "Epoch 106/200 -- NLL: 86.04\n"
     ]
    },
    {
     "name": "stderr",
     "output_type": "stream",
     "text": [
      "100%|██████████| 430/430 [00:28<00:00, 15.42it/s, 0s=0.87, 1s=0.13, NLL=80.11]\n",
      "  0%|          | 2/430 [00:00<00:28, 15.06it/s, 0s=0.87, 1s=0.13, NLL=80.59]"
     ]
    },
    {
     "name": "stdout",
     "output_type": "stream",
     "text": [
      "Epoch 107/200 -- NLL: 85.99\n"
     ]
    },
    {
     "name": "stderr",
     "output_type": "stream",
     "text": [
      "100%|██████████| 430/430 [00:28<00:00, 15.41it/s, 0s=0.87, 1s=0.13, NLL=81.93]\n",
      "  0%|          | 2/430 [00:00<00:28, 15.08it/s, 0s=0.87, 1s=0.13, NLL=83.43]"
     ]
    },
    {
     "name": "stdout",
     "output_type": "stream",
     "text": [
      "Epoch 108/200 -- NLL: 86.03\n"
     ]
    },
    {
     "name": "stderr",
     "output_type": "stream",
     "text": [
      "100%|██████████| 430/430 [00:28<00:00, 15.40it/s, 0s=0.87, 1s=0.13, NLL=85.82]\n",
      "  0%|          | 2/430 [00:00<00:28, 15.08it/s, 0s=0.87, 1s=0.13, NLL=80.85]"
     ]
    },
    {
     "name": "stdout",
     "output_type": "stream",
     "text": [
      "Epoch 109/200 -- NLL: 85.89\n"
     ]
    },
    {
     "name": "stderr",
     "output_type": "stream",
     "text": [
      "100%|██████████| 430/430 [00:28<00:00, 15.42it/s, 0s=0.87, 1s=0.13, NLL=83.12]\n",
      "  0%|          | 2/430 [00:00<00:28, 15.09it/s, 0s=0.86, 1s=0.14, NLL=80.67]"
     ]
    },
    {
     "name": "stdout",
     "output_type": "stream",
     "text": [
      "Epoch 110/200 -- NLL: 85.90\n"
     ]
    },
    {
     "name": "stderr",
     "output_type": "stream",
     "text": [
      "100%|██████████| 430/430 [00:28<00:00, 15.36it/s, 0s=0.87, 1s=0.13, NLL=83.61]\n",
      "  0%|          | 2/430 [00:00<00:28, 15.06it/s, 0s=0.87, 1s=0.13, NLL=82.41]"
     ]
    },
    {
     "name": "stdout",
     "output_type": "stream",
     "text": [
      "Epoch 111/200 -- NLL: 85.75\n"
     ]
    },
    {
     "name": "stderr",
     "output_type": "stream",
     "text": [
      "100%|██████████| 430/430 [00:28<00:00, 15.40it/s, 0s=0.87, 1s=0.13, NLL=85.15]\n",
      "  0%|          | 2/430 [00:00<00:28, 15.10it/s, 0s=0.87, 1s=0.13, NLL=81.26]"
     ]
    },
    {
     "name": "stdout",
     "output_type": "stream",
     "text": [
      "Epoch 112/200 -- NLL: 85.85\n"
     ]
    },
    {
     "name": "stderr",
     "output_type": "stream",
     "text": [
      "100%|██████████| 430/430 [00:28<00:00, 15.41it/s, 0s=0.88, 1s=0.12, NLL=79.55]\n",
      "  0%|          | 2/430 [00:00<00:28, 15.13it/s, 0s=0.87, 1s=0.13, NLL=79.91]"
     ]
    },
    {
     "name": "stdout",
     "output_type": "stream",
     "text": [
      "Epoch 113/200 -- NLL: 85.83\n"
     ]
    },
    {
     "name": "stderr",
     "output_type": "stream",
     "text": [
      "100%|██████████| 430/430 [00:28<00:00, 15.41it/s, 0s=0.87, 1s=0.13, NLL=80.87]\n",
      "  0%|          | 2/430 [00:00<00:28, 15.08it/s, 0s=0.86, 1s=0.14, NLL=83.63]"
     ]
    },
    {
     "name": "stdout",
     "output_type": "stream",
     "text": [
      "Epoch 114/200 -- NLL: 85.73\n"
     ]
    },
    {
     "name": "stderr",
     "output_type": "stream",
     "text": [
      "100%|██████████| 430/430 [00:28<00:00, 15.42it/s, 0s=0.87, 1s=0.13, NLL=82.48]\n",
      "  0%|          | 2/430 [00:00<00:28, 15.18it/s, 0s=0.87, 1s=0.13, NLL=83.82]"
     ]
    },
    {
     "name": "stdout",
     "output_type": "stream",
     "text": [
      "Epoch 115/200 -- NLL: 85.81\n"
     ]
    },
    {
     "name": "stderr",
     "output_type": "stream",
     "text": [
      "100%|██████████| 430/430 [00:28<00:00, 15.41it/s, 0s=0.87, 1s=0.13, NLL=83.58]\n",
      "  0%|          | 2/430 [00:00<00:28, 15.13it/s, 0s=0.87, 1s=0.13, NLL=83.58]"
     ]
    },
    {
     "name": "stdout",
     "output_type": "stream",
     "text": [
      "Epoch 116/200 -- NLL: 85.76\n"
     ]
    },
    {
     "name": "stderr",
     "output_type": "stream",
     "text": [
      "100%|██████████| 430/430 [00:28<00:00, 15.42it/s, 0s=0.88, 1s=0.12, NLL=84.03]\n",
      "  0%|          | 2/430 [00:00<00:28, 15.07it/s, 0s=0.86, 1s=0.14, NLL=84.93]"
     ]
    },
    {
     "name": "stdout",
     "output_type": "stream",
     "text": [
      "Epoch 117/200 -- NLL: 85.81\n"
     ]
    },
    {
     "name": "stderr",
     "output_type": "stream",
     "text": [
      "100%|██████████| 430/430 [00:28<00:00, 15.42it/s, 0s=0.87, 1s=0.13, NLL=80.20]\n",
      "  0%|          | 2/430 [00:00<00:28, 15.16it/s, 0s=0.86, 1s=0.14, NLL=82.02]"
     ]
    },
    {
     "name": "stdout",
     "output_type": "stream",
     "text": [
      "Epoch 118/200 -- NLL: 85.59\n"
     ]
    },
    {
     "name": "stderr",
     "output_type": "stream",
     "text": [
      "100%|██████████| 430/430 [00:28<00:00, 15.42it/s, 0s=0.87, 1s=0.13, NLL=79.74]\n",
      "  0%|          | 2/430 [00:00<00:28, 15.08it/s, 0s=0.86, 1s=0.14, NLL=80.44]"
     ]
    },
    {
     "name": "stdout",
     "output_type": "stream",
     "text": [
      "Epoch 119/200 -- NLL: 85.61\n"
     ]
    },
    {
     "name": "stderr",
     "output_type": "stream",
     "text": [
      "100%|██████████| 430/430 [00:28<00:00, 15.41it/s, 0s=0.87, 1s=0.13, NLL=82.00]\n",
      "  0%|          | 2/430 [00:00<00:28, 14.96it/s, 0s=0.87, 1s=0.13, NLL=82.88]"
     ]
    },
    {
     "name": "stdout",
     "output_type": "stream",
     "text": [
      "Epoch 120/200 -- NLL: 85.71\n"
     ]
    },
    {
     "name": "stderr",
     "output_type": "stream",
     "text": [
      "100%|██████████| 430/430 [00:28<00:00, 15.42it/s, 0s=0.87, 1s=0.13, NLL=81.11]\n",
      "  0%|          | 2/430 [00:00<00:28, 15.10it/s, 0s=0.87, 1s=0.13, NLL=81.17]"
     ]
    },
    {
     "name": "stdout",
     "output_type": "stream",
     "text": [
      "Epoch 121/200 -- NLL: 85.68\n"
     ]
    },
    {
     "name": "stderr",
     "output_type": "stream",
     "text": [
      "100%|██████████| 430/430 [00:28<00:00, 15.41it/s, 0s=0.87, 1s=0.13, NLL=80.78]\n",
      "  0%|          | 2/430 [00:00<00:28, 15.10it/s, 0s=0.87, 1s=0.13, NLL=85.49]"
     ]
    },
    {
     "name": "stdout",
     "output_type": "stream",
     "text": [
      "Epoch 122/200 -- NLL: 85.61\n"
     ]
    },
    {
     "name": "stderr",
     "output_type": "stream",
     "text": [
      "100%|██████████| 430/430 [00:28<00:00, 15.39it/s, 0s=0.87, 1s=0.13, NLL=81.06]\n",
      "  0%|          | 2/430 [00:00<00:28, 15.18it/s, 0s=0.87, 1s=0.13, NLL=83.62]"
     ]
    },
    {
     "name": "stdout",
     "output_type": "stream",
     "text": [
      "Epoch 123/200 -- NLL: 85.61\n"
     ]
    },
    {
     "name": "stderr",
     "output_type": "stream",
     "text": [
      "100%|██████████| 430/430 [00:28<00:00, 15.33it/s, 0s=0.87, 1s=0.13, NLL=83.31]\n",
      "  0%|          | 2/430 [00:00<00:28, 15.15it/s, 0s=0.87, 1s=0.13, NLL=80.56]"
     ]
    },
    {
     "name": "stdout",
     "output_type": "stream",
     "text": [
      "Epoch 124/200 -- NLL: 85.57\n"
     ]
    },
    {
     "name": "stderr",
     "output_type": "stream",
     "text": [
      "100%|██████████| 430/430 [00:28<00:00, 15.41it/s, 0s=0.88, 1s=0.12, NLL=81.85]\n",
      "  0%|          | 2/430 [00:00<00:28, 15.11it/s, 0s=0.87, 1s=0.13, NLL=81.25]"
     ]
    },
    {
     "name": "stdout",
     "output_type": "stream",
     "text": [
      "Epoch 125/200 -- NLL: 85.65\n"
     ]
    },
    {
     "name": "stderr",
     "output_type": "stream",
     "text": [
      "100%|██████████| 430/430 [00:28<00:00, 15.41it/s, 0s=0.87, 1s=0.13, NLL=83.00]\n",
      "  0%|          | 2/430 [00:00<00:28, 15.17it/s, 0s=0.87, 1s=0.13, NLL=82.55]"
     ]
    },
    {
     "name": "stdout",
     "output_type": "stream",
     "text": [
      "Epoch 126/200 -- NLL: 85.60\n"
     ]
    },
    {
     "name": "stderr",
     "output_type": "stream",
     "text": [
      "100%|██████████| 430/430 [00:28<00:00, 15.39it/s, 0s=0.86, 1s=0.14, NLL=82.55]\n",
      "  0%|          | 2/430 [00:00<00:28, 15.11it/s, 0s=0.86, 1s=0.14, NLL=82.18]"
     ]
    },
    {
     "name": "stdout",
     "output_type": "stream",
     "text": [
      "Epoch 127/200 -- NLL: 85.47\n"
     ]
    },
    {
     "name": "stderr",
     "output_type": "stream",
     "text": [
      "100%|██████████| 430/430 [00:28<00:00, 15.40it/s, 0s=0.87, 1s=0.13, NLL=83.97]\n",
      "  0%|          | 2/430 [00:00<00:28, 15.19it/s, 0s=0.87, 1s=0.13, NLL=80.45]"
     ]
    },
    {
     "name": "stdout",
     "output_type": "stream",
     "text": [
      "Epoch 128/200 -- NLL: 85.69\n"
     ]
    },
    {
     "name": "stderr",
     "output_type": "stream",
     "text": [
      "100%|██████████| 430/430 [00:28<00:00, 15.42it/s, 0s=0.87, 1s=0.13, NLL=78.86]\n",
      "  0%|          | 2/430 [00:00<00:28, 15.19it/s, 0s=0.87, 1s=0.13, NLL=82.06]"
     ]
    },
    {
     "name": "stdout",
     "output_type": "stream",
     "text": [
      "Epoch 129/200 -- NLL: 85.70\n"
     ]
    },
    {
     "name": "stderr",
     "output_type": "stream",
     "text": [
      "100%|██████████| 430/430 [00:28<00:00, 15.41it/s, 0s=0.87, 1s=0.13, NLL=83.12]\n",
      "  0%|          | 2/430 [00:00<00:28, 15.11it/s, 0s=0.86, 1s=0.14, NLL=82.71]"
     ]
    },
    {
     "name": "stdout",
     "output_type": "stream",
     "text": [
      "Epoch 130/200 -- NLL: 85.51\n"
     ]
    },
    {
     "name": "stderr",
     "output_type": "stream",
     "text": [
      "100%|██████████| 430/430 [00:28<00:00, 15.40it/s, 0s=0.87, 1s=0.13, NLL=85.25]\n",
      "  0%|          | 2/430 [00:00<00:28, 15.06it/s, 0s=0.87, 1s=0.13, NLL=80.89]"
     ]
    },
    {
     "name": "stdout",
     "output_type": "stream",
     "text": [
      "Epoch 131/200 -- NLL: 85.29\n"
     ]
    },
    {
     "name": "stderr",
     "output_type": "stream",
     "text": [
      "100%|██████████| 430/430 [00:28<00:00, 15.39it/s, 0s=0.87, 1s=0.13, NLL=79.68]\n",
      "  0%|          | 2/430 [00:00<00:28, 15.12it/s, 0s=0.87, 1s=0.13, NLL=77.44]"
     ]
    },
    {
     "name": "stdout",
     "output_type": "stream",
     "text": [
      "Epoch 132/200 -- NLL: 85.40\n"
     ]
    },
    {
     "name": "stderr",
     "output_type": "stream",
     "text": [
      "100%|██████████| 430/430 [00:28<00:00, 15.43it/s, 0s=0.86, 1s=0.14, NLL=86.57]\n",
      "  0%|          | 2/430 [00:00<00:28, 15.07it/s, 0s=0.87, 1s=0.13, NLL=81.14]"
     ]
    },
    {
     "name": "stdout",
     "output_type": "stream",
     "text": [
      "Epoch 133/200 -- NLL: 85.57\n"
     ]
    },
    {
     "name": "stderr",
     "output_type": "stream",
     "text": [
      "100%|██████████| 430/430 [00:28<00:00, 15.41it/s, 0s=0.87, 1s=0.13, NLL=79.65]\n",
      "  0%|          | 2/430 [00:00<00:28, 15.12it/s, 0s=0.87, 1s=0.13, NLL=79.15]"
     ]
    },
    {
     "name": "stdout",
     "output_type": "stream",
     "text": [
      "Epoch 134/200 -- NLL: 85.38\n"
     ]
    },
    {
     "name": "stderr",
     "output_type": "stream",
     "text": [
      "100%|██████████| 430/430 [00:28<00:00, 15.40it/s, 0s=0.87, 1s=0.13, NLL=79.83]\n",
      "  0%|          | 2/430 [00:00<00:28, 15.04it/s, 0s=0.88, 1s=0.12, NLL=80.38]"
     ]
    },
    {
     "name": "stdout",
     "output_type": "stream",
     "text": [
      "Epoch 135/200 -- NLL: 85.30\n"
     ]
    },
    {
     "name": "stderr",
     "output_type": "stream",
     "text": [
      "100%|██████████| 430/430 [00:28<00:00, 15.40it/s, 0s=0.87, 1s=0.13, NLL=79.43]\n",
      "  0%|          | 2/430 [00:00<00:28, 15.14it/s, 0s=0.87, 1s=0.13, NLL=79.21]"
     ]
    },
    {
     "name": "stdout",
     "output_type": "stream",
     "text": [
      "Epoch 136/200 -- NLL: 85.32\n"
     ]
    },
    {
     "name": "stderr",
     "output_type": "stream",
     "text": [
      "100%|██████████| 430/430 [00:28<00:00, 15.41it/s, 0s=0.87, 1s=0.13, NLL=80.84]\n",
      "  0%|          | 2/430 [00:00<00:28, 15.16it/s, 0s=0.87, 1s=0.13, NLL=81.10]"
     ]
    },
    {
     "name": "stdout",
     "output_type": "stream",
     "text": [
      "Epoch 137/200 -- NLL: 85.53\n"
     ]
    },
    {
     "name": "stderr",
     "output_type": "stream",
     "text": [
      "100%|██████████| 430/430 [00:28<00:00, 15.42it/s, 0s=0.87, 1s=0.13, NLL=83.15]\n",
      "  0%|          | 2/430 [00:00<00:28, 15.17it/s, 0s=0.87, 1s=0.13, NLL=81.54]"
     ]
    },
    {
     "name": "stdout",
     "output_type": "stream",
     "text": [
      "Epoch 138/200 -- NLL: 85.32\n"
     ]
    },
    {
     "name": "stderr",
     "output_type": "stream",
     "text": [
      "100%|██████████| 430/430 [00:28<00:00, 15.39it/s, 0s=0.88, 1s=0.12, NLL=75.25]\n",
      "  0%|          | 2/430 [00:00<00:28, 15.06it/s, 0s=0.87, 1s=0.13, NLL=78.96]"
     ]
    },
    {
     "name": "stdout",
     "output_type": "stream",
     "text": [
      "Epoch 139/200 -- NLL: 85.56\n"
     ]
    },
    {
     "name": "stderr",
     "output_type": "stream",
     "text": [
      "100%|██████████| 430/430 [00:28<00:00, 15.45it/s, 0s=0.87, 1s=0.13, NLL=78.74]\n",
      "  0%|          | 2/430 [00:00<00:28, 15.11it/s, 0s=0.87, 1s=0.13, NLL=81.66]"
     ]
    },
    {
     "name": "stdout",
     "output_type": "stream",
     "text": [
      "Epoch 140/200 -- NLL: 85.54\n"
     ]
    },
    {
     "name": "stderr",
     "output_type": "stream",
     "text": [
      "100%|██████████| 430/430 [00:28<00:00, 15.42it/s, 0s=0.87, 1s=0.13, NLL=80.93]\n"
     ]
    },
    {
     "name": "stdout",
     "output_type": "stream",
     "text": [
      "Early stopping at epoch 141/200\n"
     ]
    }
   ],
   "source": [
    "print(\"\\n# Training\")\n",
    "\n",
    "#from tensorboardX import SummaryWriter        \n",
    "#writer = SummaryWriter(args.logdir)\n",
    "writer = None\n",
    "step = 1\n",
    "\n",
    "for epoch in range(args.epochs):\n",
    "\n",
    "    iterator = tqdm(get_batcher(train_loader))\n",
    "\n",
    "    for x_mb, y_mb in iterator:\n",
    "        # [B, H*W]\n",
    "        x_mb = x_mb.reshape(-1, args.height * args.width)\n",
    "        # [B, 10]\n",
    "        context = None\n",
    "        model.train()\n",
    "        opt.zero_grad()\n",
    "\n",
    "        if args.num_masks == 1:\n",
    "            resample_mask = False\n",
    "        else:  # training with variable masks\n",
    "            resample_mask = args.resample_mask_every > 0 and step % args.resample_mask_every == 0\n",
    "\n",
    "        # [B, H*W] \n",
    "        noisy_x = torch.where(\n",
    "            torch.rand_like(x_mb) > args.input_dropout, x_mb, torch.zeros_like(x_mb)\n",
    "        )\n",
    "        p_x = model(\n",
    "            inputs=context,\n",
    "            history=noisy_x,\n",
    "            resample_mask=resample_mask\n",
    "        )\n",
    "        # [B, H*W]\n",
    "        ll_mb = p_x.log_prob(x_mb)\n",
    "        # [B]\n",
    "        ll = ll_mb.sum(-1)\n",
    "\n",
    "        loss = -(ll).mean()\n",
    "        loss.backward()\n",
    "        opt.step()    \n",
    "\n",
    "\n",
    "        display = OrderedDict()\n",
    "        display['0s'] = '{:.2f}'.format((x_mb == 0).float().mean().item())\n",
    "        display['1s'] = '{:.2f}'.format((x_mb == 1).float().mean().item())\n",
    "        display['NLL'] =  '{:.2f}'.format(-ll.mean().item())     \n",
    "\n",
    "        if writer:            \n",
    "            writer.add_scalar('training/LL', ll)\n",
    "            #writer.add_image('training/posterior/sample', z.mean(0).reshape(1,1,-1) * 255)\n",
    "\n",
    "        iterator.set_postfix(display, refresh=False)\n",
    "        step += 1\n",
    "\n",
    "    stop, dict_valid = validate(get_batcher(valid_loader), args, model, opt, scheduler, \n",
    "        writer=writer, name=\"dev\")\n",
    "\n",
    "    if stop:\n",
    "        print('Early stopping at epoch {:3}/{}'.format(epoch + 1, args.epochs))\n",
    "        break\n",
    "\n",
    "    print('Epoch {:3}/{} -- '.format(epoch + 1, args.epochs) + \\\n",
    "          ', '.join(['{}: {:4.2f}'.format(k, v) for k, v in sorted(dict_valid.items())]))"
   ]
  },
  {
   "cell_type": "markdown",
   "metadata": {},
   "source": [
    "Let's visualise samples"
   ]
  },
  {
   "cell_type": "code",
   "execution_count": 9,
   "metadata": {},
   "outputs": [],
   "source": [
    "from matplotlib import pyplot as plt\n",
    "\n",
    "def visualize_made(batcher: Batcher, args, model, N=4, writer=None, name='dev'): \n",
    "\n",
    "    assert N <= args.batch_size, \"N should be no bigger than a batch\"\n",
    "    with torch.no_grad():\n",
    "        model.eval()        \n",
    "    \n",
    "        plt.figure(figsize=(2*N, 2*N))\n",
    "        plt.subplots_adjust(wspace=0.5, hspace=0.5)        \n",
    "        \n",
    "        # Some visualisations\n",
    "        for x_mb, y_mb in batcher:\n",
    "            \n",
    "            # [B, H*W]\n",
    "            x_mb = x_mb.reshape(-1, args.height * args.width)\n",
    "            x_mb = x_mb[:N]\n",
    "            # [B, 10]\n",
    "            context = None\n",
    "            \n",
    "            p_x = model(inputs=None, history=x_mb, resample_mask=False)\n",
    "            # [B, H*W]\n",
    "            ll = p_x.log_prob(x_mb)\n",
    "            prob = torch.exp(ll)\n",
    "\n",
    "            # reconstruct bottom half of N instances\n",
    "            x_rec = model.sample(inputs=None, history=x_mb, start_from=args.height * args.width // 2)\n",
    "            # sample N instances\n",
    "            x_sample = model.sample(\n",
    "                inputs=None,\n",
    "                history=torch.zeros(\n",
    "                    [N, args.height * args.width], \n",
    "                    device=torch.device(args.device), \n",
    "                    dtype=torch.float32\n",
    "                ),\n",
    "                start_from=0\n",
    "            )\n",
    "            for i in range(N):\n",
    "                plt.subplot(4, N, 0*N + i + 1)\n",
    "                plt.imshow(x_mb[i].reshape(args.height, args.width).cpu(), cmap='Greys')\n",
    "                plt.title(\"x%d\" % (i + 1))\n",
    "\n",
    "                plt.subplot(4, N, 1*N + i + 1)\n",
    "                plt.imshow(prob[i].reshape(args.height, args.width).cpu(), cmap='Greys')\n",
    "                plt.title(\"prob%d\" % (i + 1))\n",
    "                \n",
    "                plt.subplot(4, N, 2*N + i + 1)                \n",
    "                plt.axhline(y=args.height//2, c='red', linewidth=1, ls='--')\n",
    "                plt.imshow(x_rec[i].reshape(args.height, args.width).cpu(), cmap='Greys')\n",
    "                plt.title(\"rec%d\" % (i + 1))\n",
    "                \n",
    "                plt.subplot(4, N, 3*N + i + 1)\n",
    "                plt.imshow(x_sample[i].reshape(args.height, args.width).cpu(), cmap='Greys')\n",
    "                plt.title(\"sample%d\" % (i + 1))\n",
    "                \n",
    "            break\n",
    "\n",
    "    plt.show()"
   ]
  },
  {
   "cell_type": "markdown",
   "metadata": {},
   "source": [
    "A few reconstructions for the validation set as well as samples from the autoregressive likelihood"
   ]
  },
  {
   "cell_type": "code",
   "execution_count": 11,
   "metadata": {},
   "outputs": [
    {
     "data": {
      "image/png": "[encoded data removed]",
      "text/plain": [
       "<Figure size 576x576 with 16 Axes>"
      ]
     },
     "metadata": {
      "needs_background": "light"
     },
     "output_type": "display_data"
    }
   ],
   "source": [
    "visualize_made(get_batcher(valid_loader), args, model)"
   ]
  },
  {
   "cell_type": "code",
   "execution_count": null,
   "metadata": {},
   "outputs": [],
   "source": []
  }
 ],
 "metadata": {
  "kernelspec": {
   "display_name": "Python 3",
   "language": "python",
   "name": "python3"
  },
  "language_info": {
   "codemirror_mode": {
    "name": "ipython",
    "version": 3
   },
   "file_extension": ".py",
   "mimetype": "text/x-python",
   "name": "python",
   "nbconvert_exporter": "python",
   "pygments_lexer": "ipython3",
   "version": "3.6.8"
  }
 },
 "nbformat": 4,
 "nbformat_minor": 2
}
